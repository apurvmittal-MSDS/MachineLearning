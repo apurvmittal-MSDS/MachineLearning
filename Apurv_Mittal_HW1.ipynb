{
 "cells": [
  {
   "cell_type": "markdown",
   "id": "e8466633",
   "metadata": {},
   "source": [
    "### Home Work 1\n",
    "#### Submitted by: Apurv Mittal"
   ]
  },
  {
   "cell_type": "markdown",
   "id": "47f183d0",
   "metadata": {},
   "source": [
    "### Question 1:\n",
    "\n",
    "Please fill in an explanation of each function and an example of how to use it below."
   ]
  },
  {
   "cell_type": "markdown",
   "id": "b10747cf",
   "metadata": {},
   "source": [
    "#### List"
   ]
  },
  {
   "cell_type": "markdown",
   "id": "69f2f177",
   "metadata": {},
   "source": [
    "##### append()\n",
    "\n",
    "This method adds an object to the end of a list. "
   ]
  },
  {
   "cell_type": "code",
   "execution_count": 1,
   "id": "34b396be",
   "metadata": {},
   "outputs": [
    {
     "data": {
      "text/plain": [
       "['a', 'b', 'c', 'd']"
      ]
     },
     "execution_count": 1,
     "metadata": {},
     "output_type": "execute_result"
    }
   ],
   "source": [
    "df = ['a','b','c']\n",
    "df.append('d')\n",
    "df"
   ]
  },
  {
   "cell_type": "markdown",
   "id": "4e63f151",
   "metadata": {},
   "source": [
    "##### extend()\n",
    "\n",
    "This method can be used to add a list (multiple objects) to the end of a list."
   ]
  },
  {
   "cell_type": "code",
   "execution_count": 2,
   "id": "84dd58a9",
   "metadata": {},
   "outputs": [
    {
     "data": {
      "text/plain": [
       "['a', 'b', 'c', 'd', 'e', 'f', 'g']"
      ]
     },
     "execution_count": 2,
     "metadata": {},
     "output_type": "execute_result"
    }
   ],
   "source": [
    "df.extend(['e','f','g'])\n",
    "df"
   ]
  },
  {
   "cell_type": "markdown",
   "id": "8fefa1c7",
   "metadata": {},
   "source": [
    "#### index()\n",
    "\n",
    "This method searches and returns the position of the element in the list."
   ]
  },
  {
   "cell_type": "code",
   "execution_count": 3,
   "id": "bc92fe8f",
   "metadata": {},
   "outputs": [
    {
     "data": {
      "text/plain": [
       "6"
      ]
     },
     "execution_count": 3,
     "metadata": {},
     "output_type": "execute_result"
    }
   ],
   "source": [
    "df.index('g')"
   ]
  },
  {
   "cell_type": "markdown",
   "id": "c0e113a8",
   "metadata": {},
   "source": [
    "#### index(value, integer)\n",
    "\n",
    "This method with value and integer parameter returns the index of the given value in the list between integer parameter and last element in the list. An exception is displayed if not found."
   ]
  },
  {
   "cell_type": "code",
   "execution_count": 4,
   "id": "d3205886",
   "metadata": {},
   "outputs": [
    {
     "data": {
      "text/plain": [
       "6"
      ]
     },
     "execution_count": 4,
     "metadata": {},
     "output_type": "execute_result"
    }
   ],
   "source": [
    "df.index('g',5)"
   ]
  },
  {
   "cell_type": "markdown",
   "id": "4f8df1c2",
   "metadata": {},
   "source": [
    "#### insert(position)\n",
    "\n",
    "This method is used to insert a value in the list at a specific position"
   ]
  },
  {
   "cell_type": "code",
   "execution_count": 5,
   "id": "b1ce4cf4",
   "metadata": {},
   "outputs": [
    {
     "data": {
      "text/plain": [
       "['a', 'b', 'c', 'd', 'e', 'f', 'K', 'g']"
      ]
     },
     "execution_count": 5,
     "metadata": {},
     "output_type": "execute_result"
    }
   ],
   "source": [
    "df.insert(6,'K')\n",
    "df"
   ]
  },
  {
   "cell_type": "markdown",
   "id": "dc5830f1",
   "metadata": {},
   "source": [
    "#### remove()\n",
    "\n",
    "This method removes the element from the list"
   ]
  },
  {
   "cell_type": "code",
   "execution_count": 6,
   "id": "ae37bd56",
   "metadata": {},
   "outputs": [
    {
     "data": {
      "text/plain": [
       "['a', 'b', 'c', 'd', 'e', 'f', 'g']"
      ]
     },
     "execution_count": 6,
     "metadata": {},
     "output_type": "execute_result"
    }
   ],
   "source": [
    "df.remove('K')\n",
    "df"
   ]
  },
  {
   "cell_type": "markdown",
   "id": "0724d8ce",
   "metadata": {},
   "source": [
    "#### pop()\n",
    "\n",
    "This method removes the last element from the list and returns the element."
   ]
  },
  {
   "cell_type": "code",
   "execution_count": 7,
   "id": "9d6d8628",
   "metadata": {},
   "outputs": [
    {
     "data": {
      "text/plain": [
       "'g'"
      ]
     },
     "execution_count": 7,
     "metadata": {},
     "output_type": "execute_result"
    }
   ],
   "source": [
    "df.pop()"
   ]
  },
  {
   "cell_type": "code",
   "execution_count": 8,
   "id": "6eeb0a09",
   "metadata": {},
   "outputs": [
    {
     "data": {
      "text/plain": [
       "['a', 'b', 'c', 'd', 'e', 'f']"
      ]
     },
     "execution_count": 8,
     "metadata": {},
     "output_type": "execute_result"
    }
   ],
   "source": [
    "df"
   ]
  },
  {
   "cell_type": "markdown",
   "id": "4f8d87e6",
   "metadata": {},
   "source": [
    "#### count()\n",
    "\n",
    "This method returns the number of times an element is in the list."
   ]
  },
  {
   "cell_type": "code",
   "execution_count": 9,
   "id": "feb374d9",
   "metadata": {},
   "outputs": [
    {
     "data": {
      "text/plain": [
       "1"
      ]
     },
     "execution_count": 9,
     "metadata": {},
     "output_type": "execute_result"
    }
   ],
   "source": [
    "df.count('a')"
   ]
  },
  {
   "cell_type": "markdown",
   "id": "fee237b7",
   "metadata": {},
   "source": [
    "#### reverse()\n",
    "\n",
    "This method is to change the order of the elements. It reverses the order of the elements in the list."
   ]
  },
  {
   "cell_type": "code",
   "execution_count": 10,
   "id": "70903644",
   "metadata": {},
   "outputs": [
    {
     "data": {
      "text/plain": [
       "['f', 'e', 'd', 'c', 'b', 'a']"
      ]
     },
     "execution_count": 10,
     "metadata": {},
     "output_type": "execute_result"
    }
   ],
   "source": [
    "df.reverse()\n",
    "df"
   ]
  },
  {
   "cell_type": "markdown",
   "id": "00d49e45",
   "metadata": {},
   "source": [
    "#### sort()\n",
    "\n",
    "This method sorts the elements in ascending order.It can sort in descending as well if reverse is given as true."
   ]
  },
  {
   "cell_type": "code",
   "execution_count": 11,
   "id": "e3b6dd6d",
   "metadata": {},
   "outputs": [
    {
     "data": {
      "text/plain": [
       "['a', 'b', 'c', 'd', 'e', 'f']"
      ]
     },
     "execution_count": 11,
     "metadata": {},
     "output_type": "execute_result"
    }
   ],
   "source": [
    "df.sort()\n",
    "df"
   ]
  },
  {
   "cell_type": "code",
   "execution_count": 12,
   "id": "b02a0f17",
   "metadata": {},
   "outputs": [
    {
     "data": {
      "text/plain": [
       "['f', 'e', 'd', 'c', 'b', 'a']"
      ]
     },
     "execution_count": 12,
     "metadata": {},
     "output_type": "execute_result"
    }
   ],
   "source": [
    "df.sort(reverse=True)\n",
    "df"
   ]
  },
  {
   "cell_type": "markdown",
   "id": "e5688978",
   "metadata": {},
   "source": [
    "#### Operations"
   ]
  },
  {
   "cell_type": "markdown",
   "id": "03c62c13",
   "metadata": {},
   "source": [
    "Concatinating two lists"
   ]
  },
  {
   "cell_type": "code",
   "execution_count": 13,
   "id": "edd91cee",
   "metadata": {},
   "outputs": [
    {
     "data": {
      "text/plain": [
       "[1, 1]"
      ]
     },
     "execution_count": 13,
     "metadata": {},
     "output_type": "execute_result"
    }
   ],
   "source": [
    "[1]+[1]\n"
   ]
  },
  {
   "cell_type": "markdown",
   "id": "83d27c54",
   "metadata": {},
   "source": [
    "Duplicating the values in the list upon multiplying with 2. If multiplyed by 3, all values will be returned 3 times in the list."
   ]
  },
  {
   "cell_type": "code",
   "execution_count": 14,
   "id": "08ad80a7",
   "metadata": {},
   "outputs": [
    {
     "data": {
      "text/plain": [
       "[2, 2]"
      ]
     },
     "execution_count": 14,
     "metadata": {},
     "output_type": "execute_result"
    }
   ],
   "source": [
    "[2]*2\n"
   ]
  },
  {
   "cell_type": "markdown",
   "id": "788c5aca",
   "metadata": {},
   "source": [
    "All values from position 1 onwards"
   ]
  },
  {
   "cell_type": "code",
   "execution_count": 15,
   "id": "483aabe8",
   "metadata": {},
   "outputs": [
    {
     "data": {
      "text/plain": [
       "[2]"
      ]
     },
     "execution_count": 15,
     "metadata": {},
     "output_type": "execute_result"
    }
   ],
   "source": [
    "[1,2][1:]\n"
   ]
  },
  {
   "cell_type": "markdown",
   "id": "2c741f4b",
   "metadata": {},
   "source": [
    "Return values for each value in the list"
   ]
  },
  {
   "cell_type": "code",
   "execution_count": 16,
   "id": "9a2aa345",
   "metadata": {},
   "outputs": [
    {
     "data": {
      "text/plain": [
       "[2, 3]"
      ]
     },
     "execution_count": 16,
     "metadata": {},
     "output_type": "execute_result"
    }
   ],
   "source": [
    "[x for x in [2,3]]\n"
   ]
  },
  {
   "cell_type": "markdown",
   "id": "7b6125b4",
   "metadata": {},
   "source": [
    "Return values for each value in the list as long as its 1."
   ]
  },
  {
   "cell_type": "code",
   "execution_count": 17,
   "id": "56e701c7",
   "metadata": {},
   "outputs": [
    {
     "data": {
      "text/plain": [
       "[1]"
      ]
     },
     "execution_count": 17,
     "metadata": {},
     "output_type": "execute_result"
    }
   ],
   "source": [
    "[x for x in [1,2] if x ==1]\n"
   ]
  },
  {
   "cell_type": "markdown",
   "id": "1360a1ef",
   "metadata": {},
   "source": [
    "multiply each value by 2 in the list"
   ]
  },
  {
   "cell_type": "code",
   "execution_count": 18,
   "id": "b915a6d0",
   "metadata": {},
   "outputs": [
    {
     "data": {
      "text/plain": [
       "[2, 4, 6, 8]"
      ]
     },
     "execution_count": 18,
     "metadata": {},
     "output_type": "execute_result"
    }
   ],
   "source": [
    "[y*2 for x in [[1,2],[3,4]] for y in x]\n",
    "\n"
   ]
  },
  {
   "cell_type": "markdown",
   "id": "e895bade",
   "metadata": {},
   "source": [
    "\n",
    "### Question 2\n",
    "#### Tuples\n",
    "\n",
    "Tuples are similar to list except that tuples are immutable which means they can't be changed.Also, tuples can be used as keys on dictionaries."
   ]
  },
  {
   "cell_type": "markdown",
   "id": "1ecbfe3a",
   "metadata": {},
   "source": [
    "#### count()\n",
    "\n",
    "This method returns the number of times an element is in the tuple."
   ]
  },
  {
   "cell_type": "code",
   "execution_count": 19,
   "id": "20f0b4b2",
   "metadata": {},
   "outputs": [
    {
     "data": {
      "text/plain": [
       "1"
      ]
     },
     "execution_count": 19,
     "metadata": {},
     "output_type": "execute_result"
    }
   ],
   "source": [
    "tuples = ('a','b','c')\n",
    "tuples.count('a')"
   ]
  },
  {
   "cell_type": "markdown",
   "id": "9a2ff507",
   "metadata": {},
   "source": [
    "#### index()\n",
    "This method searches and returns the position of the element in the tuple."
   ]
  },
  {
   "cell_type": "code",
   "execution_count": 20,
   "id": "3985634b",
   "metadata": {},
   "outputs": [
    {
     "data": {
      "text/plain": [
       "2"
      ]
     },
     "execution_count": 20,
     "metadata": {},
     "output_type": "execute_result"
    }
   ],
   "source": [
    "tuples.index('c')"
   ]
  },
  {
   "cell_type": "markdown",
   "id": "158d26f9",
   "metadata": {},
   "source": [
    "#### build a dictionary from tuples"
   ]
  },
  {
   "cell_type": "code",
   "execution_count": 90,
   "id": "704b2202",
   "metadata": {},
   "outputs": [
    {
     "name": "stdout",
     "output_type": "stream",
     "text": [
      "('a', 'b', 'c')\n",
      "('apple', 'boy', 'cat')\n"
     ]
    }
   ],
   "source": [
    "tuples_alphabet = ('a','b','c')\n",
    "tuples_word = ('apple','boy','cat')\n",
    "print(tuples_alphabet)\n",
    "print(tuples_word)"
   ]
  },
  {
   "cell_type": "code",
   "execution_count": 22,
   "id": "ed4c0cf0",
   "metadata": {},
   "outputs": [
    {
     "data": {
      "text/plain": [
       "{'a': 'apple', 'b': 'boy', 'c': 'cat'}"
      ]
     },
     "execution_count": 22,
     "metadata": {},
     "output_type": "execute_result"
    }
   ],
   "source": [
    "tuples_dictionary = dict(zip(tuples_alphabet,tuples_word))\n",
    "tuples_dictionary"
   ]
  },
  {
   "cell_type": "code",
   "execution_count": 23,
   "id": "3f1983d8",
   "metadata": {},
   "outputs": [
    {
     "data": {
      "text/plain": [
       "'boy'"
      ]
     },
     "execution_count": 23,
     "metadata": {},
     "output_type": "execute_result"
    }
   ],
   "source": [
    "tuples_dictionary['b']"
   ]
  },
  {
   "cell_type": "markdown",
   "id": "d5b18f82",
   "metadata": {},
   "source": [
    "#### unpack tuples\n",
    "\n",
    "This method allows to extract tuple elements automatically.\n"
   ]
  },
  {
   "cell_type": "code",
   "execution_count": 91,
   "id": "bdefb8f3",
   "metadata": {},
   "outputs": [],
   "source": [
    "x,y,z=tuples_word"
   ]
  },
  {
   "cell_type": "code",
   "execution_count": 25,
   "id": "6f0386de",
   "metadata": {},
   "outputs": [
    {
     "name": "stdout",
     "output_type": "stream",
     "text": [
      "boy cat apple\n"
     ]
    }
   ],
   "source": [
    "print(y,z,x)"
   ]
  },
  {
   "cell_type": "markdown",
   "id": "8d81e579",
   "metadata": {},
   "source": [
    "\n",
    "### Question 3\n",
    "#### Dicts"
   ]
  },
  {
   "cell_type": "code",
   "execution_count": 26,
   "id": "b09ab724",
   "metadata": {},
   "outputs": [],
   "source": [
    "a_dict = {'I hate':'you', 'You should':'leave'}"
   ]
  },
  {
   "cell_type": "markdown",
   "id": "d9edcfea",
   "metadata": {},
   "source": [
    "###### Keys()"
   ]
  },
  {
   "cell_type": "code",
   "execution_count": 27,
   "id": "4510fa95",
   "metadata": {},
   "outputs": [
    {
     "data": {
      "text/plain": [
       "dict_keys(['I hate', 'You should'])"
      ]
     },
     "execution_count": 27,
     "metadata": {},
     "output_type": "execute_result"
    }
   ],
   "source": [
    "a_dict.keys()"
   ]
  },
  {
   "cell_type": "markdown",
   "id": "8e40c127",
   "metadata": {},
   "source": [
    "##### items()"
   ]
  },
  {
   "cell_type": "code",
   "execution_count": 28,
   "id": "75385abf",
   "metadata": {},
   "outputs": [
    {
     "data": {
      "text/plain": [
       "dict_items([('I hate', 'you'), ('You should', 'leave')])"
      ]
     },
     "execution_count": 28,
     "metadata": {},
     "output_type": "execute_result"
    }
   ],
   "source": [
    "a_dict.items()"
   ]
  },
  {
   "cell_type": "markdown",
   "id": "1228f57b",
   "metadata": {},
   "source": [
    "##### hasvalues()"
   ]
  },
  {
   "cell_type": "code",
   "execution_count": 93,
   "id": "0f114267",
   "metadata": {},
   "outputs": [
    {
     "data": {
      "text/plain": [
       "<function dict.values>"
      ]
     },
     "execution_count": 93,
     "metadata": {},
     "output_type": "execute_result"
    }
   ],
   "source": [
    "a_dict.hasvalues()"
   ]
  },
  {
   "cell_type": "markdown",
   "id": "eafc47e2",
   "metadata": {},
   "source": [
    "#### 'dict' object has no attribute 'hasvalues'"
   ]
  },
  {
   "cell_type": "markdown",
   "id": "6f50b16e",
   "metadata": {},
   "source": [
    "##### _key()"
   ]
  },
  {
   "cell_type": "code",
   "execution_count": 30,
   "id": "8726b928",
   "metadata": {},
   "outputs": [
    {
     "ename": "AttributeError",
     "evalue": "'dict' object has no attribute '_key'",
     "output_type": "error",
     "traceback": [
      "\u001b[0;31m---------------------------------------------------------------------------\u001b[0m",
      "\u001b[0;31mAttributeError\u001b[0m                            Traceback (most recent call last)",
      "\u001b[0;32m/var/folders/nj/krdx6pc97ll1_tr63y2z664w0000gn/T/ipykernel_26573/1111291630.py\u001b[0m in \u001b[0;36m<module>\u001b[0;34m\u001b[0m\n\u001b[0;32m----> 1\u001b[0;31m \u001b[0ma_dict\u001b[0m\u001b[0;34m.\u001b[0m\u001b[0m_key\u001b[0m\u001b[0;34m(\u001b[0m\u001b[0;34m)\u001b[0m\u001b[0;34m\u001b[0m\u001b[0;34m\u001b[0m\u001b[0m\n\u001b[0m",
      "\u001b[0;31mAttributeError\u001b[0m: 'dict' object has no attribute '_key'"
     ]
    }
   ],
   "source": [
    "a_dict._key()\n"
   ]
  },
  {
   "cell_type": "markdown",
   "id": "fa0e9b69",
   "metadata": {},
   "source": [
    "#### dict' object has no attribute '_key'"
   ]
  },
  {
   "cell_type": "markdown",
   "id": "28946752",
   "metadata": {},
   "source": [
    "##### ‘never’ in a_dict"
   ]
  },
  {
   "cell_type": "code",
   "execution_count": 31,
   "id": "b3475c34",
   "metadata": {},
   "outputs": [
    {
     "data": {
      "text/plain": [
       "False"
      ]
     },
     "execution_count": 31,
     "metadata": {},
     "output_type": "execute_result"
    }
   ],
   "source": [
    "'never' in a_dict\n"
   ]
  },
  {
   "cell_type": "markdown",
   "id": "a768fadf",
   "metadata": {},
   "source": [
    "##### del a_dict['me']"
   ]
  },
  {
   "cell_type": "code",
   "execution_count": 32,
   "id": "61cc1dbe",
   "metadata": {},
   "outputs": [
    {
     "ename": "KeyError",
     "evalue": "'me'",
     "output_type": "error",
     "traceback": [
      "\u001b[0;31m---------------------------------------------------------------------------\u001b[0m",
      "\u001b[0;31mKeyError\u001b[0m                                  Traceback (most recent call last)",
      "\u001b[0;32m/var/folders/nj/krdx6pc97ll1_tr63y2z664w0000gn/T/ipykernel_26573/2170959553.py\u001b[0m in \u001b[0;36m<module>\u001b[0;34m\u001b[0m\n\u001b[0;32m----> 1\u001b[0;31m \u001b[0;32mdel\u001b[0m \u001b[0ma_dict\u001b[0m\u001b[0;34m[\u001b[0m\u001b[0;34m'me'\u001b[0m\u001b[0;34m]\u001b[0m\u001b[0;34m\u001b[0m\u001b[0;34m\u001b[0m\u001b[0m\n\u001b[0m",
      "\u001b[0;31mKeyError\u001b[0m: 'me'"
     ]
    }
   ],
   "source": [
    "del a_dict['me']"
   ]
  },
  {
   "cell_type": "markdown",
   "id": "1d9ccb5b",
   "metadata": {},
   "source": [
    "#### No Key as \"Me\""
   ]
  },
  {
   "cell_type": "code",
   "execution_count": 33,
   "id": "d5c3ea03",
   "metadata": {},
   "outputs": [],
   "source": [
    "del a_dict['I hate']"
   ]
  },
  {
   "cell_type": "markdown",
   "id": "4f1e8dcd",
   "metadata": {},
   "source": [
    "\"I hate\" keyvalue pair is deleted."
   ]
  },
  {
   "cell_type": "code",
   "execution_count": 34,
   "id": "dfc37b1e",
   "metadata": {},
   "outputs": [
    {
     "data": {
      "text/plain": [
       "dict_items([('You should', 'leave')])"
      ]
     },
     "execution_count": 34,
     "metadata": {},
     "output_type": "execute_result"
    }
   ],
   "source": [
    "a_dict.items()"
   ]
  },
  {
   "cell_type": "markdown",
   "id": "a00311b7",
   "metadata": {},
   "source": [
    "##### a_dict.clear()"
   ]
  },
  {
   "cell_type": "code",
   "execution_count": 35,
   "id": "57f5dbb0",
   "metadata": {},
   "outputs": [],
   "source": [
    "a_dict.clear()"
   ]
  },
  {
   "cell_type": "markdown",
   "id": "5ee7c294",
   "metadata": {},
   "source": [
    "All values in the dictionary are deleted"
   ]
  },
  {
   "cell_type": "code",
   "execution_count": 36,
   "id": "1e982467",
   "metadata": {},
   "outputs": [
    {
     "data": {
      "text/plain": [
       "dict_items([])"
      ]
     },
     "execution_count": 36,
     "metadata": {},
     "output_type": "execute_result"
    }
   ],
   "source": [
    "a_dict.items()"
   ]
  },
  {
   "cell_type": "markdown",
   "id": "bd9010c7",
   "metadata": {},
   "source": [
    "##### dir()"
   ]
  },
  {
   "cell_type": "code",
   "execution_count": 37,
   "id": "70c300a5",
   "metadata": {},
   "outputs": [
    {
     "data": {
      "text/plain": [
       "['In',\n",
       " 'Out',\n",
       " '_',\n",
       " '_1',\n",
       " '_10',\n",
       " '_11',\n",
       " '_12',\n",
       " '_13',\n",
       " '_14',\n",
       " '_15',\n",
       " '_16',\n",
       " '_17',\n",
       " '_18',\n",
       " '_19',\n",
       " '_2',\n",
       " '_20',\n",
       " '_22',\n",
       " '_23',\n",
       " '_27',\n",
       " '_28',\n",
       " '_3',\n",
       " '_31',\n",
       " '_34',\n",
       " '_36',\n",
       " '_4',\n",
       " '_5',\n",
       " '_6',\n",
       " '_7',\n",
       " '_8',\n",
       " '_9',\n",
       " '__',\n",
       " '___',\n",
       " '__builtin__',\n",
       " '__builtins__',\n",
       " '__doc__',\n",
       " '__loader__',\n",
       " '__name__',\n",
       " '__package__',\n",
       " '__spec__',\n",
       " '_dh',\n",
       " '_i',\n",
       " '_i1',\n",
       " '_i10',\n",
       " '_i11',\n",
       " '_i12',\n",
       " '_i13',\n",
       " '_i14',\n",
       " '_i15',\n",
       " '_i16',\n",
       " '_i17',\n",
       " '_i18',\n",
       " '_i19',\n",
       " '_i2',\n",
       " '_i20',\n",
       " '_i21',\n",
       " '_i22',\n",
       " '_i23',\n",
       " '_i24',\n",
       " '_i25',\n",
       " '_i26',\n",
       " '_i27',\n",
       " '_i28',\n",
       " '_i29',\n",
       " '_i3',\n",
       " '_i30',\n",
       " '_i31',\n",
       " '_i32',\n",
       " '_i33',\n",
       " '_i34',\n",
       " '_i35',\n",
       " '_i36',\n",
       " '_i37',\n",
       " '_i4',\n",
       " '_i5',\n",
       " '_i6',\n",
       " '_i7',\n",
       " '_i8',\n",
       " '_i9',\n",
       " '_ih',\n",
       " '_ii',\n",
       " '_iii',\n",
       " '_oh',\n",
       " 'a_dict',\n",
       " 'df',\n",
       " 'exit',\n",
       " 'get_ipython',\n",
       " 'quit',\n",
       " 'tuples',\n",
       " 'tuples_alphabet',\n",
       " 'tuples_dictionary',\n",
       " 'tuples_word',\n",
       " 'x',\n",
       " 'y',\n",
       " 'z']"
      ]
     },
     "execution_count": 37,
     "metadata": {},
     "output_type": "execute_result"
    }
   ],
   "source": [
    "dir()"
   ]
  },
  {
   "cell_type": "markdown",
   "id": "b2588b62",
   "metadata": {},
   "source": [
    "### Question 4\n",
    "#### Sets"
   ]
  },
  {
   "cell_type": "markdown",
   "id": "bbf872a9",
   "metadata": {},
   "source": [
    "A set is an unordered collection of items. Every set element is unique and immutable though the set itself is mutable.Since sets cannot have duplicated, there are usually used to build sequence of unique items."
   ]
  },
  {
   "cell_type": "markdown",
   "id": "99386009",
   "metadata": {},
   "source": [
    "#### add()\n",
    "\n",
    "This method can add an element to a set.\n"
   ]
  },
  {
   "cell_type": "code",
   "execution_count": 38,
   "id": "f1064784",
   "metadata": {},
   "outputs": [],
   "source": [
    "a = set([1,2,3,4,5,6])\n",
    "b = set([5,6,7,8,9])"
   ]
  },
  {
   "cell_type": "code",
   "execution_count": 39,
   "id": "56c9b7fc",
   "metadata": {},
   "outputs": [],
   "source": [
    "a.add(9)"
   ]
  },
  {
   "cell_type": "code",
   "execution_count": 40,
   "id": "1f4bf60e",
   "metadata": {},
   "outputs": [
    {
     "data": {
      "text/plain": [
       "{1, 2, 3, 4, 5, 6, 9}"
      ]
     },
     "execution_count": 40,
     "metadata": {},
     "output_type": "execute_result"
    }
   ],
   "source": [
    "a"
   ]
  },
  {
   "cell_type": "markdown",
   "id": "291ef646",
   "metadata": {},
   "source": [
    "#### clear()\n",
    "\n",
    "This method clears all the elements in a set."
   ]
  },
  {
   "cell_type": "code",
   "execution_count": 41,
   "id": "b07b008b",
   "metadata": {},
   "outputs": [
    {
     "data": {
      "text/plain": [
       "{1, 2, 3, 4, 5, 6, 9}"
      ]
     },
     "execution_count": 41,
     "metadata": {},
     "output_type": "execute_result"
    }
   ],
   "source": [
    "c=a.copy()\n",
    "c"
   ]
  },
  {
   "cell_type": "code",
   "execution_count": 42,
   "id": "1d5155d3",
   "metadata": {},
   "outputs": [
    {
     "data": {
      "text/plain": [
       "set()"
      ]
     },
     "execution_count": 42,
     "metadata": {},
     "output_type": "execute_result"
    }
   ],
   "source": [
    "c.clear()\n",
    "c"
   ]
  },
  {
   "cell_type": "markdown",
   "id": "17de9664",
   "metadata": {},
   "source": [
    "#### copy()\n",
    "creates a shallow copy of the set."
   ]
  },
  {
   "cell_type": "code",
   "execution_count": 43,
   "id": "d8d4e3c9",
   "metadata": {},
   "outputs": [
    {
     "data": {
      "text/plain": [
       "{1, 2, 3, 4, 5, 6, 9}"
      ]
     },
     "execution_count": 43,
     "metadata": {},
     "output_type": "execute_result"
    }
   ],
   "source": [
    "c=a.copy()\n",
    "c"
   ]
  },
  {
   "cell_type": "markdown",
   "id": "6536b9dd",
   "metadata": {},
   "source": [
    "#### difference()\n",
    "Returns the difference between two sets"
   ]
  },
  {
   "cell_type": "code",
   "execution_count": 44,
   "id": "30897b51",
   "metadata": {},
   "outputs": [
    {
     "data": {
      "text/plain": [
       "{1, 2, 3, 4}"
      ]
     },
     "execution_count": 44,
     "metadata": {},
     "output_type": "execute_result"
    }
   ],
   "source": [
    "a.difference(b)"
   ]
  },
  {
   "cell_type": "code",
   "execution_count": 45,
   "id": "b9b521f5",
   "metadata": {},
   "outputs": [
    {
     "data": {
      "text/plain": [
       "set()"
      ]
     },
     "execution_count": 45,
     "metadata": {},
     "output_type": "execute_result"
    }
   ],
   "source": [
    "a.difference(c)\n"
   ]
  },
  {
   "cell_type": "markdown",
   "id": "dc831dbd",
   "metadata": {},
   "source": [
    "#### discard()\n",
    "Method to remove an element from the set"
   ]
  },
  {
   "cell_type": "code",
   "execution_count": 46,
   "id": "837d9fa8",
   "metadata": {},
   "outputs": [
    {
     "data": {
      "text/plain": [
       "{1, 2, 3, 4, 5, 6}"
      ]
     },
     "execution_count": 46,
     "metadata": {},
     "output_type": "execute_result"
    }
   ],
   "source": [
    "c.discard(9)\n",
    "c"
   ]
  },
  {
   "cell_type": "markdown",
   "id": "ce5a8533",
   "metadata": {},
   "source": [
    "#### intersection()\n",
    "Returns the intersection (common) elements between sets"
   ]
  },
  {
   "cell_type": "code",
   "execution_count": 47,
   "id": "38f6af16",
   "metadata": {},
   "outputs": [
    {
     "data": {
      "text/plain": [
       "{5, 6, 9}"
      ]
     },
     "execution_count": 47,
     "metadata": {},
     "output_type": "execute_result"
    }
   ],
   "source": [
    "a.intersection(b)"
   ]
  },
  {
   "cell_type": "markdown",
   "id": "549c1831",
   "metadata": {},
   "source": [
    "#### issubset()\n",
    "Returns if a set is a subset of another. True or False"
   ]
  },
  {
   "cell_type": "code",
   "execution_count": 48,
   "id": "74a55d46",
   "metadata": {},
   "outputs": [
    {
     "data": {
      "text/plain": [
       "False"
      ]
     },
     "execution_count": 48,
     "metadata": {},
     "output_type": "execute_result"
    }
   ],
   "source": [
    "a.issubset(b)"
   ]
  },
  {
   "cell_type": "markdown",
   "id": "2eabb175",
   "metadata": {},
   "source": [
    "#### pop()\n",
    "Pop's out the first element of the set."
   ]
  },
  {
   "cell_type": "code",
   "execution_count": 49,
   "id": "1e4e0ffe",
   "metadata": {},
   "outputs": [
    {
     "data": {
      "text/plain": [
       "5"
      ]
     },
     "execution_count": 49,
     "metadata": {},
     "output_type": "execute_result"
    }
   ],
   "source": [
    "b.pop()"
   ]
  },
  {
   "cell_type": "markdown",
   "id": "6df3c5e8",
   "metadata": {},
   "source": [
    "#### remove()\n",
    "Similar to discard(), it used to remove an element from the set"
   ]
  },
  {
   "cell_type": "code",
   "execution_count": 50,
   "id": "fb5a7034",
   "metadata": {},
   "outputs": [
    {
     "data": {
      "text/plain": [
       "{1, 2, 3, 4, 5}"
      ]
     },
     "execution_count": 50,
     "metadata": {},
     "output_type": "execute_result"
    }
   ],
   "source": [
    "c.remove(6)\n",
    "c"
   ]
  },
  {
   "cell_type": "markdown",
   "id": "5bc25800",
   "metadata": {},
   "source": [
    "#### union()\n",
    "Creates a union of two sets with the ubique values"
   ]
  },
  {
   "cell_type": "code",
   "execution_count": 51,
   "id": "2304a720",
   "metadata": {},
   "outputs": [
    {
     "data": {
      "text/plain": [
       "{1, 2, 3, 4, 5, 6, 7, 8, 9}"
      ]
     },
     "execution_count": 51,
     "metadata": {},
     "output_type": "execute_result"
    }
   ],
   "source": [
    "d=a.union(b)\n",
    "d"
   ]
  },
  {
   "cell_type": "markdown",
   "id": "4b4a9549",
   "metadata": {},
   "source": [
    "#### update()\n",
    "\n",
    "This method is used to add multiple elements to a set."
   ]
  },
  {
   "cell_type": "code",
   "execution_count": 52,
   "id": "35273a80",
   "metadata": {},
   "outputs": [
    {
     "data": {
      "text/plain": [
       "{1, 2, 3, 4, 5, 6, 9, 10, 11, 12}"
      ]
     },
     "execution_count": 52,
     "metadata": {},
     "output_type": "execute_result"
    }
   ],
   "source": [
    "a.update([10,11,12])\n",
    "a"
   ]
  },
  {
   "cell_type": "markdown",
   "id": "4d735a53",
   "metadata": {},
   "source": [
    "### Question 5\n",
    "#### Strings"
   ]
  },
  {
   "cell_type": "markdown",
   "id": "e7bc89ad",
   "metadata": {},
   "source": [
    "Strings are immutable sequence of characters."
   ]
  },
  {
   "cell_type": "markdown",
   "id": "abc5d5b2",
   "metadata": {},
   "source": [
    "#### capitalize()\n",
    "Capitalizes the first character.\n"
   ]
  },
  {
   "cell_type": "code",
   "execution_count": 53,
   "id": "35ce74a5",
   "metadata": {},
   "outputs": [
    {
     "data": {
      "text/plain": [
       "'it was the best of times, it was the worst of times'"
      ]
     },
     "execution_count": 53,
     "metadata": {},
     "output_type": "execute_result"
    }
   ],
   "source": [
    "text = \"it was the best of times, it was the worst of times\"\n",
    "text"
   ]
  },
  {
   "cell_type": "code",
   "execution_count": 54,
   "id": "43d3318b",
   "metadata": {},
   "outputs": [
    {
     "data": {
      "text/plain": [
       "'It was the best of times, it was the worst of times'"
      ]
     },
     "execution_count": 54,
     "metadata": {},
     "output_type": "execute_result"
    }
   ],
   "source": [
    "text.capitalize()"
   ]
  },
  {
   "cell_type": "markdown",
   "id": "ac7a7abb",
   "metadata": {},
   "source": [
    "#### casefold()\n",
    "changes to lowercase."
   ]
  },
  {
   "cell_type": "code",
   "execution_count": 55,
   "id": "58a4dd39",
   "metadata": {},
   "outputs": [
    {
     "data": {
      "text/plain": [
       "'IT WAS THE BEST OF TIMES, IT WAS THE WORST OF TIMES'"
      ]
     },
     "execution_count": 55,
     "metadata": {},
     "output_type": "execute_result"
    }
   ],
   "source": [
    "a = text.upper()\n",
    "a"
   ]
  },
  {
   "cell_type": "code",
   "execution_count": 56,
   "id": "efeff9a2",
   "metadata": {},
   "outputs": [
    {
     "data": {
      "text/plain": [
       "'it was the best of times, it was the worst of times'"
      ]
     },
     "execution_count": 56,
     "metadata": {},
     "output_type": "execute_result"
    }
   ],
   "source": [
    "a.casefold()"
   ]
  },
  {
   "cell_type": "markdown",
   "id": "057524d5",
   "metadata": {},
   "source": [
    "#### center()\n",
    "Moves the string to the center of the total length of characters."
   ]
  },
  {
   "cell_type": "code",
   "execution_count": 95,
   "id": "2a277eab",
   "metadata": {},
   "outputs": [
    {
     "data": {
      "text/plain": [
       "'**********************THAT WAS THE BEST OF TIMES, THAT WAS THE WORST OF TIMES***********************'"
      ]
     },
     "execution_count": 95,
     "metadata": {},
     "output_type": "execute_result"
    }
   ],
   "source": [
    "a.center(100, \"*\")"
   ]
  },
  {
   "cell_type": "markdown",
   "id": "4fbb5194",
   "metadata": {},
   "source": [
    "#### count()\n",
    "Counts the number of time a character is in the selected string."
   ]
  },
  {
   "cell_type": "code",
   "execution_count": 58,
   "id": "3e6fbe7c",
   "metadata": {},
   "outputs": [
    {
     "data": {
      "text/plain": [
       "6"
      ]
     },
     "execution_count": 58,
     "metadata": {},
     "output_type": "execute_result"
    }
   ],
   "source": [
    "text.count('s')"
   ]
  },
  {
   "cell_type": "code",
   "execution_count": 59,
   "id": "13485781",
   "metadata": {},
   "outputs": [
    {
     "data": {
      "text/plain": [
       "1"
      ]
     },
     "execution_count": 59,
     "metadata": {},
     "output_type": "execute_result"
    }
   ],
   "source": [
    "text.count('best')"
   ]
  },
  {
   "cell_type": "markdown",
   "id": "7febf189",
   "metadata": {},
   "source": [
    "#### encode()\n",
    "converts a standard string to unicode string using the encoding specified as an argument."
   ]
  },
  {
   "cell_type": "code",
   "execution_count": 60,
   "id": "4eef322a",
   "metadata": {},
   "outputs": [
    {
     "data": {
      "text/plain": [
       "'π'"
      ]
     },
     "execution_count": 60,
     "metadata": {},
     "output_type": "execute_result"
    }
   ],
   "source": [
    "z = u\"π\"\n",
    "z"
   ]
  },
  {
   "cell_type": "code",
   "execution_count": 61,
   "id": "5ea3b0fd",
   "metadata": {},
   "outputs": [
    {
     "data": {
      "text/plain": [
       "b'\\xcf\\x80'"
      ]
     },
     "execution_count": 61,
     "metadata": {},
     "output_type": "execute_result"
    }
   ],
   "source": [
    "b = z.encode(\"utf-8\")\n",
    "b"
   ]
  },
  {
   "cell_type": "code",
   "execution_count": 62,
   "id": "a5c59e22",
   "metadata": {},
   "outputs": [
    {
     "data": {
      "text/plain": [
       "'π'"
      ]
     },
     "execution_count": 62,
     "metadata": {},
     "output_type": "execute_result"
    }
   ],
   "source": [
    "c = b.decode(\"utf-8\")\n",
    "c"
   ]
  },
  {
   "cell_type": "markdown",
   "id": "ac01e674",
   "metadata": {},
   "source": [
    "#### find()\n",
    "Returns the index of the first occurance of the character."
   ]
  },
  {
   "cell_type": "code",
   "execution_count": 63,
   "id": "96b7382a",
   "metadata": {},
   "outputs": [
    {
     "data": {
      "text/plain": [
       "11"
      ]
     },
     "execution_count": 63,
     "metadata": {},
     "output_type": "execute_result"
    }
   ],
   "source": [
    "text.find(\"best\")"
   ]
  },
  {
   "cell_type": "markdown",
   "id": "432183e4",
   "metadata": {},
   "source": [
    "#### partition()\n",
    "Splits the string into multiple sets at the first occurance of the character"
   ]
  },
  {
   "cell_type": "code",
   "execution_count": 64,
   "id": "c91a739e",
   "metadata": {},
   "outputs": [
    {
     "data": {
      "text/plain": [
       "('IT ', 'WAS', ' THE BEST OF TIMES, IT WAS THE WORST OF TIMES')"
      ]
     },
     "execution_count": 64,
     "metadata": {},
     "output_type": "execute_result"
    }
   ],
   "source": [
    "a.partition(\"WAS\")"
   ]
  },
  {
   "cell_type": "markdown",
   "id": "361e29b1",
   "metadata": {},
   "source": [
    "#### replace()\n",
    "Replace the characters (words) with a different value"
   ]
  },
  {
   "cell_type": "code",
   "execution_count": 65,
   "id": "c63e7ea1",
   "metadata": {},
   "outputs": [
    {
     "data": {
      "text/plain": [
       "'THAT WAS THE BEST OF TIMES, THAT WAS THE WORST OF TIMES'"
      ]
     },
     "execution_count": 65,
     "metadata": {},
     "output_type": "execute_result"
    }
   ],
   "source": [
    "a= a.replace(\"IT\", \"THAT\")\n",
    "a"
   ]
  },
  {
   "cell_type": "markdown",
   "id": "b8cf0656",
   "metadata": {},
   "source": [
    "#### split()\n",
    "Splits the string based on character given in the argument and doesn't retain the character"
   ]
  },
  {
   "cell_type": "code",
   "execution_count": 66,
   "id": "c24e836e",
   "metadata": {},
   "outputs": [
    {
     "data": {
      "text/plain": [
       "['THAT ', ' THE BEST OF TIMES, THAT ', ' THE WORST OF TIMES']"
      ]
     },
     "execution_count": 66,
     "metadata": {},
     "output_type": "execute_result"
    }
   ],
   "source": [
    "a.split(\"WAS\")"
   ]
  },
  {
   "cell_type": "markdown",
   "id": "4963b815",
   "metadata": {},
   "source": [
    "#### title()\n",
    "Convert case of the text to the `title` text where first letter of each word is capitalized."
   ]
  },
  {
   "cell_type": "code",
   "execution_count": 67,
   "id": "7943ca5e",
   "metadata": {},
   "outputs": [
    {
     "data": {
      "text/plain": [
       "'That Was The Best Of Times, That Was The Worst Of Times'"
      ]
     },
     "execution_count": 67,
     "metadata": {},
     "output_type": "execute_result"
    }
   ],
   "source": [
    "a.title()"
   ]
  },
  {
   "cell_type": "markdown",
   "id": "18c12052",
   "metadata": {},
   "source": [
    "#### zfill()\n",
    "methods that adds zero to the left."
   ]
  },
  {
   "cell_type": "code",
   "execution_count": 68,
   "id": "d9fcdc2d",
   "metadata": {},
   "outputs": [
    {
     "data": {
      "text/plain": [
       "'000000000000000000000000000000000000000000000THAT WAS THE BEST OF TIMES, THAT WAS THE WORST OF TIMES'"
      ]
     },
     "execution_count": 68,
     "metadata": {},
     "output_type": "execute_result"
    }
   ],
   "source": [
    "a.zfill(100)"
   ]
  },
  {
   "cell_type": "markdown",
   "id": "1944c2ac",
   "metadata": {},
   "source": [
    "### Question 6"
   ]
  },
  {
   "cell_type": "markdown",
   "id": "37ca0103",
   "metadata": {},
   "source": [
    "#### from collections import Counter\n",
    "\n",
    "Counts the elements in a string."
   ]
  },
  {
   "cell_type": "code",
   "execution_count": 69,
   "id": "8fd21380",
   "metadata": {},
   "outputs": [
    {
     "data": {
      "text/plain": [
       "Counter({'it was the best of times, it was the worst of times': 1})"
      ]
     },
     "execution_count": 69,
     "metadata": {},
     "output_type": "execute_result"
    }
   ],
   "source": [
    "from collections import Counter\n",
    "Counter([text])"
   ]
  },
  {
   "cell_type": "code",
   "execution_count": 70,
   "id": "14ddfb0e",
   "metadata": {},
   "outputs": [
    {
     "data": {
      "text/plain": [
       "Counter({'i': 4,\n",
       "         't': 8,\n",
       "         ' ': 11,\n",
       "         'w': 3,\n",
       "         'a': 2,\n",
       "         's': 6,\n",
       "         'h': 2,\n",
       "         'e': 5,\n",
       "         'b': 1,\n",
       "         'o': 3,\n",
       "         'f': 2,\n",
       "         'm': 2,\n",
       "         ',': 1,\n",
       "         'r': 1})"
      ]
     },
     "execution_count": 70,
     "metadata": {},
     "output_type": "execute_result"
    }
   ],
   "source": [
    "Counter(text)"
   ]
  },
  {
   "cell_type": "markdown",
   "id": "cc6bc66f",
   "metadata": {},
   "source": [
    "### Bonus 1"
   ]
  },
  {
   "cell_type": "markdown",
   "id": "d8e505df",
   "metadata": {},
   "source": [
    "#### from itertools import *"
   ]
  },
  {
   "cell_type": "code",
   "execution_count": 71,
   "id": "85928308",
   "metadata": {},
   "outputs": [],
   "source": [
    "from itertools import *"
   ]
  },
  {
   "cell_type": "code",
   "execution_count": 72,
   "id": "8b27cc0c",
   "metadata": {},
   "outputs": [],
   "source": [
    "flower_orders=['W/R/B','W/R/B','W/R/B','W/R/B','W/R/B','W/R/B','W/R/B','W/R/B','W/R/B','W/R/B','W/R/B','W/R/B',\n",
    "               'W/R/B','W/R/B','W/R/B','W/R/B','W/R/B','W/R/B','W/R/B','W/R/B','W/R/B','W/R/B','W/R/B','W/R/B',\n",
    "               'W/R/B','W/R/B','W/R/B','W/R/B','W/R/B','W/R/B','W/R','W/R','W/R','W/R','W/R','W/R','W/R','W/R',\n",
    "               'W/R','W/R','W/R','W/R','W/R','W/R','W/R','W/R','R/V/Y','R/V/Y','R/V/Y','R/V/Y','R/V/Y','R/V/Y',\n",
    "               'R/V/Y','R/V/Y','R/V/Y','R/V/Y','W/R/V','W/R/V','W/R/V','W/R/V','W/R/V','W/R/V','W/R/V','W/R/V',\n",
    "               'W/R/V','W/R/V','W/N/R/V','W/N/R/V','W/N/R/V','W/N/R/V','W/N/R/V','W/N/R/V','W/N/R/V','W/N/R/V',\n",
    "               'W/R/B/Y','W/R/B/Y','W/R/B/Y','W/R/B/Y','W/R/B/Y','W/R/B/Y','B/Y','B/Y','B/Y','B/Y','B/Y','R/B/Y',\n",
    "               'R/B/Y','R/B/Y','R/B/Y','R/B/Y','W/N/R/B/V/Y','W/N/R/B/V/Y','W/N/R/B/V/Y','W/N/R/B/V/Y','W/N/R/B/V/Y',\n",
    "               'W/G','W/G','W/G','W/G','R/Y','R/Y','R/Y','R/Y','N/R/V/Y','N/R/V/Y','N/R/V/Y','N/R/V/Y','W/R/B/V',\n",
    "               'W/R/B/V','W/R/B/V','W/R/B/V','W/N/R/V/Y','W/N/R/V/Y','W/N/R/V/Y','W/N/R/V/Y','N/R/Y','N/R/Y','N/R/Y',\n",
    "               'W/V/O','W/V/O','W/V/O','W/N/R/Y','W/N/R/Y','W/N/R/Y','R/B/V/Y','R/B/V/Y','R/B/V/Y','W/R/V/Y','W/R/V/Y',\n",
    "               'W/R/V/Y','W/R/B/V/Y','W/R/B/V/Y','W/R/B/V/Y','W/N/R/B/Y','W/N/R/B/Y','W/N/R/B/Y','R/G','R/G','B/V/Y',\n",
    "               'B/V/Y','N/B/Y','N/B/Y','W/B/Y','W/B/Y','W/N/B','W/N/B','W/N/R','W/N/R','W/N/B/Y','W/N/B/Y','W/B/V/Y',\n",
    "               'W/B/V/Y','W/N/R/B/V/Y/G/M','W/N/R/B/V/Y/G/M','B/R','N/R','V/Y','V','N/R/V','N/V/Y','R/B/O','W/B/V','W/V/Y',\n",
    "               'W/N/R/B','W/N/R/O','W/N/R/G','W/N/V/Y','W/N/Y/M','N/R/B/Y','N/B/V/Y','R/V/Y/O','W/B/V/M','W/B/V/O','N/R/B/Y/M',\n",
    "               'N/R/V/O/M','W/N/R/Y/G','N/R/B/V/Y','W/R/B/V/Y/P','W/N/R/B/Y/G','W/N/R/B/V/O/M','W/N/R/B/V/Y/M',\n",
    "               'W/N/B/V/Y/G/M','W/N/B/V/V/Y/P']"
   ]
  },
  {
   "cell_type": "markdown",
   "id": "f49fada9",
   "metadata": {},
   "source": [
    "##### Build a counter object and use the counter and confirm they have the same values."
   ]
  },
  {
   "cell_type": "code",
   "execution_count": 73,
   "id": "8bc0ace4",
   "metadata": {
    "scrolled": true
   },
   "outputs": [
    {
     "data": {
      "text/plain": [
       "{'W/G': 4,\n",
       " 'W/R': 16,\n",
       " 'N/R/V': 1,\n",
       " 'N/R/V/Y': 4,\n",
       " 'W/V/Y': 1,\n",
       " 'N/R/Y': 3,\n",
       " 'W/N/R/B/V/Y/G/M': 2,\n",
       " 'N/B/V/Y': 1,\n",
       " 'R/B/O': 1,\n",
       " 'B/R': 1,\n",
       " 'N/V/Y': 1,\n",
       " 'W/R/B/Y': 6,\n",
       " 'W/R/B/V': 4,\n",
       " 'V/Y': 1,\n",
       " 'W/R/B/V/Y/P': 1,\n",
       " 'N/R/B/V/Y': 1,\n",
       " 'W/N/R/O': 1,\n",
       " 'W/N/R/B/V/O/M': 1,\n",
       " 'W/N/R/Y': 3,\n",
       " 'N/R/B/Y': 1,\n",
       " 'N/R/V/O/M': 1,\n",
       " 'V': 1,\n",
       " 'W/N/V/Y': 1,\n",
       " 'R/Y': 4,\n",
       " 'B/Y': 5,\n",
       " 'R/G': 2,\n",
       " 'N/R': 1,\n",
       " 'N/R/B/Y/M': 1,\n",
       " 'W/R/V/Y': 3,\n",
       " 'W/N/B/V/V/Y/P': 1,\n",
       " 'R/V/Y/O': 1,\n",
       " 'W/N/B': 2,\n",
       " 'W/B/Y': 2,\n",
       " 'W/B/V/M': 1,\n",
       " 'W/R/B/V/Y': 3,\n",
       " 'R/B/V/Y': 3,\n",
       " 'W/N/R/B/V/Y/M': 1,\n",
       " 'W/N/R/V': 8,\n",
       " 'W/N/B/Y': 2,\n",
       " 'W/N/R/B/V/Y': 5,\n",
       " 'W/N/R/B/Y': 3,\n",
       " 'W/N/R/B': 1,\n",
       " 'W/B/V/Y': 2,\n",
       " 'B/V/Y': 2,\n",
       " 'W/B/V': 1,\n",
       " 'W/N/R/B/Y/G': 1,\n",
       " 'W/N/R/V/Y': 4,\n",
       " 'W/N/Y/M': 1,\n",
       " 'W/N/R/G': 1,\n",
       " 'W/N/B/V/Y/G/M': 1,\n",
       " 'N/B/Y': 2,\n",
       " 'W/B/V/O': 1,\n",
       " 'W/N/R/Y/G': 1,\n",
       " 'W/R/B': 30,\n",
       " 'W/V/O': 3,\n",
       " 'R/B/Y': 5,\n",
       " 'W/N/R': 2,\n",
       " 'R/V/Y': 10,\n",
       " 'W/R/V': 10}"
      ]
     },
     "execution_count": 73,
     "metadata": {},
     "output_type": "execute_result"
    }
   ],
   "source": [
    "# Counter Object\n",
    "flower_count = dict((orders,flower_orders.count(orders)) for orders in set(flower_orders))\n",
    "\n",
    "flower_count"
   ]
  },
  {
   "cell_type": "code",
   "execution_count": 74,
   "id": "1b872bae",
   "metadata": {
    "scrolled": true
   },
   "outputs": [
    {
     "data": {
      "text/plain": [
       "Counter({'W/R/B': 30,\n",
       "         'W/R': 16,\n",
       "         'R/V/Y': 10,\n",
       "         'W/R/V': 10,\n",
       "         'W/N/R/V': 8,\n",
       "         'W/R/B/Y': 6,\n",
       "         'B/Y': 5,\n",
       "         'R/B/Y': 5,\n",
       "         'W/N/R/B/V/Y': 5,\n",
       "         'W/G': 4,\n",
       "         'R/Y': 4,\n",
       "         'N/R/V/Y': 4,\n",
       "         'W/R/B/V': 4,\n",
       "         'W/N/R/V/Y': 4,\n",
       "         'N/R/Y': 3,\n",
       "         'W/V/O': 3,\n",
       "         'W/N/R/Y': 3,\n",
       "         'R/B/V/Y': 3,\n",
       "         'W/R/V/Y': 3,\n",
       "         'W/R/B/V/Y': 3,\n",
       "         'W/N/R/B/Y': 3,\n",
       "         'R/G': 2,\n",
       "         'B/V/Y': 2,\n",
       "         'N/B/Y': 2,\n",
       "         'W/B/Y': 2,\n",
       "         'W/N/B': 2,\n",
       "         'W/N/R': 2,\n",
       "         'W/N/B/Y': 2,\n",
       "         'W/B/V/Y': 2,\n",
       "         'W/N/R/B/V/Y/G/M': 2,\n",
       "         'B/R': 1,\n",
       "         'N/R': 1,\n",
       "         'V/Y': 1,\n",
       "         'V': 1,\n",
       "         'N/R/V': 1,\n",
       "         'N/V/Y': 1,\n",
       "         'R/B/O': 1,\n",
       "         'W/B/V': 1,\n",
       "         'W/V/Y': 1,\n",
       "         'W/N/R/B': 1,\n",
       "         'W/N/R/O': 1,\n",
       "         'W/N/R/G': 1,\n",
       "         'W/N/V/Y': 1,\n",
       "         'W/N/Y/M': 1,\n",
       "         'N/R/B/Y': 1,\n",
       "         'N/B/V/Y': 1,\n",
       "         'R/V/Y/O': 1,\n",
       "         'W/B/V/M': 1,\n",
       "         'W/B/V/O': 1,\n",
       "         'N/R/B/Y/M': 1,\n",
       "         'N/R/V/O/M': 1,\n",
       "         'W/N/R/Y/G': 1,\n",
       "         'N/R/B/V/Y': 1,\n",
       "         'W/R/B/V/Y/P': 1,\n",
       "         'W/N/R/B/Y/G': 1,\n",
       "         'W/N/R/B/V/O/M': 1,\n",
       "         'W/N/R/B/V/Y/M': 1,\n",
       "         'W/N/B/V/Y/G/M': 1,\n",
       "         'W/N/B/V/V/Y/P': 1})"
      ]
     },
     "execution_count": 74,
     "metadata": {},
     "output_type": "execute_result"
    }
   ],
   "source": [
    "# Counter\n",
    "counter = Counter(flower_orders)\n",
    "counter\n"
   ]
  },
  {
   "cell_type": "code",
   "execution_count": 75,
   "id": "bfcd1fde",
   "metadata": {},
   "outputs": [
    {
     "name": "stdout",
     "output_type": "stream",
     "text": [
      "Both functions return same data\n"
     ]
    }
   ],
   "source": [
    "if counter == flower_count:\n",
    "    print(\"Both functions return same data\")\n",
    "else:\n",
    "    print(\"Both functions return different data\")"
   ]
  },
  {
   "cell_type": "markdown",
   "id": "4527b816",
   "metadata": {},
   "source": [
    "##### Count how many objects have color W in them."
   ]
  },
  {
   "cell_type": "code",
   "execution_count": 76,
   "id": "70d3b371",
   "metadata": {},
   "outputs": [
    {
     "name": "stdout",
     "output_type": "stream",
     "text": [
      "Objects with color W:  130\n"
     ]
    }
   ],
   "source": [
    "count = 0\n",
    "for orders in flower_orders:\n",
    "    if 'W' in orders:\n",
    "        count +=1\n",
    "\n",
    "print(\"Objects with color W: \", count)"
   ]
  },
  {
   "cell_type": "markdown",
   "id": "923746f3",
   "metadata": {},
   "source": [
    "##### Make histogram of colors"
   ]
  },
  {
   "cell_type": "code",
   "execution_count": 77,
   "id": "53b95bf8",
   "metadata": {},
   "outputs": [
    {
     "name": "stdout",
     "output_type": "stream",
     "text": [
      "{'W', 'N', 'G', 'B', 'Y', 'O', 'V', 'R', 'P', 'M'}\n"
     ]
    }
   ],
   "source": [
    "# make a list of unique colors\n",
    "allcolors=[]\n",
    "for orders in flower_orders:\n",
    "    y=orders.split('/')\n",
    "    allcolors.extend(y)\n",
    "uniquecolors = set(allcolors)\n",
    "print(uniquecolors)"
   ]
  },
  {
   "cell_type": "code",
   "execution_count": 78,
   "id": "665566a9",
   "metadata": {},
   "outputs": [
    {
     "data": {
      "text/plain": [
       "Counter({'W': 130,\n",
       "         'R': 147,\n",
       "         'B': 94,\n",
       "         'V': 82,\n",
       "         'Y': 89,\n",
       "         'N': 59,\n",
       "         'G': 12,\n",
       "         'O': 9,\n",
       "         'M': 9,\n",
       "         'P': 2})"
      ]
     },
     "execution_count": 78,
     "metadata": {},
     "output_type": "execute_result"
    }
   ],
   "source": [
    "# Count the occurance of each color\n",
    "color_counts = Counter(allcolors)\n",
    "color_counts"
   ]
  },
  {
   "cell_type": "code",
   "execution_count": 79,
   "id": "5f41b659",
   "metadata": {},
   "outputs": [
    {
     "data": {
      "image/png": "[encoded data removed]",
      "text/plain": [
       "<Figure size 432x288 with 1 Axes>"
      ]
     },
     "metadata": {
      "needs_background": "light"
     },
     "output_type": "display_data"
    }
   ],
   "source": [
    "# plot\n",
    "from matplotlib import pyplot as plt\n",
    "plt.bar(color_counts.keys(), color_counts.values())\n",
    "\n",
    "plt.show()"
   ]
  },
  {
   "cell_type": "markdown",
   "id": "9d091093",
   "metadata": {},
   "source": [
    "##### Rank the pairs of colors in each order regardless of how many colors are in an order."
   ]
  },
  {
   "cell_type": "code",
   "execution_count": 80,
   "id": "ee84b82e",
   "metadata": {},
   "outputs": [
    {
     "name": "stdout",
     "output_type": "stream",
     "text": [
      "Counter({('W', 'R'): 107, ('W', 'B'): 71, ('R', 'B'): 70, ('R', 'Y'): 66, ('R', 'V'): 63, ('W', 'V'): 55, ('B', 'Y'): 51, ('V', 'Y'): 50, ('N', 'R'): 47, ('W', 'Y'): 44, ('W', 'N'): 42, ('N', 'Y'): 40, ('N', 'V'): 34, ('B', 'V'): 32, ('N', 'B'): 26, ('W', 'G'): 10, ('N', 'M'): 8, ('V', 'O'): 7, ('R', 'G'): 7, ('W', 'M'): 7, ('B', 'M'): 7, ('V', 'M'): 7, ('W', 'O'): 6, ('N', 'G'): 6, ('R', 'M'): 6, ('Y', 'M'): 6, ('Y', 'G'): 5, ('R', 'O'): 5, ('B', 'G'): 4, ('V', 'G'): 3, ('G', 'M'): 3, ('B', 'O'): 3, ('N', 'O'): 3, ('V', 'P'): 3, ('O', 'M'): 2, ('W', 'P'): 2, ('B', 'P'): 2, ('Y', 'P'): 2, ('B', 'R'): 1, ('Y', 'O'): 1, ('R', 'P'): 1, ('N', 'P'): 1, ('V', 'V'): 1})\n"
     ]
    }
   ],
   "source": [
    "allpair=[]\n",
    "for orders in flower_orders:\n",
    "    y=list(combinations(orders.split('/'), 2))\n",
    "    allpair += y\n",
    "paircount = Counter(allpair)\n",
    "print(paircount)"
   ]
  },
  {
   "cell_type": "markdown",
   "id": "03305833",
   "metadata": {},
   "source": [
    "##### Rank the triplets of colors in each order regardless of how many colors are in an order."
   ]
  },
  {
   "cell_type": "code",
   "execution_count": 81,
   "id": "fc4ea9ce",
   "metadata": {},
   "outputs": [
    {
     "name": "stdout",
     "output_type": "stream",
     "text": [
      "Counter({('W', 'R', 'B'): 58, ('W', 'R', 'V'): 42, ('R', 'V', 'Y'): 38, ('W', 'N', 'R'): 34, ('W', 'R', 'Y'): 33, ('R', 'B', 'Y'): 33, ('W', 'B', 'Y'): 30, ('N', 'R', 'Y'): 30, ('N', 'R', 'V'): 28, ('W', 'N', 'Y'): 26, ('W', 'V', 'Y'): 26, ('W', 'N', 'V'): 25, ('W', 'B', 'V'): 25, ('B', 'V', 'Y'): 24, ('N', 'V', 'Y'): 23, ('N', 'B', 'Y'): 22, ('R', 'B', 'V'): 21, ('W', 'N', 'B'): 20, ('N', 'R', 'B'): 17, ('N', 'B', 'V'): 14, ('W', 'N', 'G'): 6, ('W', 'N', 'M'): 6, ('W', 'B', 'M'): 6, ('W', 'V', 'M'): 6, ('N', 'R', 'M'): 6, ('N', 'B', 'M'): 6, ('N', 'V', 'M'): 6, ('N', 'Y', 'M'): 6, ('B', 'V', 'M'): 6, ('W', 'V', 'O'): 5, ('W', 'R', 'G'): 5, ('W', 'Y', 'G'): 5, ('W', 'Y', 'M'): 5, ('N', 'R', 'G'): 5, ('N', 'Y', 'G'): 5, ('R', 'B', 'M'): 5, ('R', 'V', 'M'): 5, ('B', 'Y', 'M'): 5, ('W', 'R', 'M'): 4, ('W', 'B', 'G'): 4, ('N', 'B', 'G'): 4, ('R', 'Y', 'G'): 4, ('R', 'Y', 'M'): 4, ('B', 'Y', 'G'): 4, ('V', 'Y', 'M'): 4, ('W', 'V', 'G'): 3, ('W', 'G', 'M'): 3, ('N', 'V', 'G'): 3, ('N', 'G', 'M'): 3, ('R', 'B', 'G'): 3, ('B', 'V', 'G'): 3, ('B', 'G', 'M'): 3, ('V', 'Y', 'G'): 3, ('V', 'G', 'M'): 3, ('Y', 'G', 'M'): 3, ('N', 'R', 'O'): 3, ('R', 'V', 'O'): 3, ('W', 'V', 'P'): 3, ('B', 'V', 'P'): 3, ('V', 'Y', 'P'): 3, ('R', 'V', 'G'): 2, ('R', 'G', 'M'): 2, ('R', 'B', 'O'): 2, ('W', 'N', 'O'): 2, ('W', 'R', 'O'): 2, ('W', 'B', 'O'): 2, ('B', 'V', 'O'): 2, ('N', 'V', 'O'): 2, ('N', 'O', 'M'): 2, ('R', 'O', 'M'): 2, ('V', 'O', 'M'): 2, ('W', 'B', 'P'): 2, ('W', 'Y', 'P'): 2, ('B', 'Y', 'P'): 2, ('N', 'V', 'P'): 2, ('R', 'Y', 'O'): 1, ('V', 'Y', 'O'): 1, ('W', 'R', 'P'): 1, ('R', 'B', 'P'): 1, ('R', 'V', 'P'): 1, ('R', 'Y', 'P'): 1, ('W', 'O', 'M'): 1, ('N', 'B', 'O'): 1, ('B', 'O', 'M'): 1, ('W', 'N', 'P'): 1, ('W', 'V', 'V'): 1, ('N', 'B', 'P'): 1, ('N', 'V', 'V'): 1, ('N', 'Y', 'P'): 1, ('B', 'V', 'V'): 1, ('V', 'V', 'Y'): 1, ('V', 'V', 'P'): 1})\n"
     ]
    }
   ],
   "source": [
    "triplets=[]\n",
    "for orders in flower_orders:\n",
    "    y=list(combinations(orders.split('/'), 3))\n",
    "    triplets += y\n",
    "tripletscount = Counter(triplets)\n",
    "print(tripletscount)"
   ]
  },
  {
   "cell_type": "markdown",
   "id": "484fa542",
   "metadata": {},
   "source": [
    "##### Make dictionary color for keys and values are what other colors it is ordered with."
   ]
  },
  {
   "cell_type": "code",
   "execution_count": 82,
   "id": "abf5899f",
   "metadata": {},
   "outputs": [
    {
     "data": {
      "text/plain": [
       "{'B': ['G', 'M', 'N', 'O', 'P', 'R', 'V', 'W', 'Y'],\n",
       " 'G': ['B', 'M', 'N', 'R', 'V', 'W', 'Y'],\n",
       " 'M': ['B', 'G', 'N', 'O', 'R', 'V', 'W', 'Y'],\n",
       " 'N': ['B', 'G', 'M', 'O', 'P', 'R', 'V', 'W', 'Y'],\n",
       " 'O': ['B', 'M', 'N', 'R', 'V', 'W', 'Y'],\n",
       " 'P': ['B', 'N', 'R', 'V', 'W', 'Y'],\n",
       " 'R': ['B', 'G', 'M', 'N', 'O', 'P', 'V', 'W', 'Y'],\n",
       " 'V': ['B', 'G', 'M', 'N', 'O', 'P', 'R', 'W', 'Y'],\n",
       " 'W': ['B', 'G', 'M', 'N', 'O', 'P', 'R', 'V', 'Y'],\n",
       " 'Y': ['B', 'G', 'M', 'N', 'O', 'P', 'R', 'V', 'W']}"
      ]
     },
     "execution_count": 82,
     "metadata": {},
     "output_type": "execute_result"
    }
   ],
   "source": [
    "\n",
    "\n",
    "# make a list of unique colors\n",
    "allcolors=[]\n",
    "for orders in flower_orders:\n",
    "    y=orders.split('/')\n",
    "    allcolors.extend(y)\n",
    "uniquecolors = set(allcolors)\n",
    "counter = Counter(flower_orders)\n",
    "\n",
    "\n",
    "color_Dict = {}\n",
    "for color in sorted(uniquecolors):\n",
    "    color_set = []\n",
    "    for y in counter:\n",
    "        if color in y:\n",
    "            color_set += list(y.split('/'))\n",
    "\n",
    "    color_set = [x for x in sorted(set(color_set)) if x != color]\n",
    "    color_Dict[color] = color_set\n",
    "\n",
    "color_Dict"
   ]
  },
  {
   "cell_type": "markdown",
   "id": "e08da6bf",
   "metadata": {},
   "source": [
    "##### Make a graph showing the probability of having an edge between two colors based on how often they co-occur.  (a numpy square matrix)\n"
   ]
  },
  {
   "cell_type": "markdown",
   "id": "553d71d1",
   "metadata": {},
   "source": [
    "Not clear what needs to be done here."
   ]
  },
  {
   "cell_type": "markdown",
   "id": "03e6d229",
   "metadata": {},
   "source": [
    "##### Make 10 business questions related to the questions we asked above."
   ]
  },
  {
   "cell_type": "markdown",
   "id": "249207af",
   "metadata": {},
   "source": [
    "    1. How many unique colors are there in the list?\n",
    "    2. What are the unique combinations of the colors?\n",
    "    3. Which colors combinations are most popular?\n",
    "    4. Which color combinations are least popular?\n",
    "    5. Does bigger combinations like triplets and quadrapulates are more popular over smaller combinations?\n",
    "    6. Can a new color combination be created based on the popularity?\n",
    " "
   ]
  },
  {
   "cell_type": "markdown",
   "id": "41fe0f04",
   "metadata": {},
   "source": [
    "### Bonus 2"
   ]
  },
  {
   "cell_type": "code",
   "execution_count": 83,
   "id": "0efe468b",
   "metadata": {},
   "outputs": [],
   "source": [
    "dead_men_tell_tales = ['Four score and seven years ago our fathers brought forth on this',\n",
    "'continent a new nation, conceived in liberty and dedicated to the',\n",
    "'proposition that all men are created equal. Now we are engaged in',\n",
    "'a great civil war, testing whether that nation or any nation so',\n",
    "'conceived and so dedicated can long endure. We are met on a great',\n",
    "'battlefield of that war. We have come to dedicate a portion of',\n",
    "'that field as a final resting-place for those who here gave their',\n",
    "'lives that that nation might live. It is altogether fitting and',\n",
    "'proper that we should do this. But in a larger sense, we cannot',\n",
    "'dedicate, we cannot consecrate, we cannot hallow this ground.',\n",
    "'The brave men, living and dead who struggled here have consecrated',\n",
    "'it far above our poor power to add or detract. The world will',\n",
    "'little note nor long remember what we say here, but it can never',\n",
    "'forget what they did here. It is for us the living rather to be',\n",
    "'dedicated here to the unfinished work which they who fought here',\n",
    "'have thus far so nobly advanced. It is rather for us to be here',\n",
    "'dedicated to the great task remaining before us--that from these',\n",
    "'honored dead we take increased devotion to that cause for which',\n",
    "'they gave the last full measure of devotion--that we here highly',\n",
    "'resolve that these dead shall not have died in vain, that this',\n",
    "'nation under God shall have a new birth of freedom, and that',\n",
    "'government of the people, by the people, for the people shall',\n",
    "'not perish from the earth.']"
   ]
  },
  {
   "cell_type": "markdown",
   "id": "6808f6b6",
   "metadata": {},
   "source": [
    "##### Join everything\n"
   ]
  },
  {
   "cell_type": "code",
   "execution_count": 84,
   "id": "28a8b0b1",
   "metadata": {},
   "outputs": [
    {
     "name": "stdout",
     "output_type": "stream",
     "text": [
      "['Four score and seven years ago our fathers brought forth on this continent a new nation, conceived in liberty and dedicated to the proposition that all men are created equal. Now we are engaged in a great civil war, testing whether that nation or any nation so conceived and so dedicated can long endure. We are met on a great battlefield of that war. We have come to dedicate a portion of that field as a final resting-place for those who here gave their lives that that nation might live. It is altogether fitting and proper that we should do this. But in a larger sense, we cannot dedicate, we cannot consecrate, we cannot hallow this ground. The brave men, living and dead who struggled here have consecrated it far above our poor power to add or detract. The world will little note nor long remember what we say here, but it can never forget what they did here. It is for us the living rather to be dedicated here to the unfinished work which they who fought here have thus far so nobly advanced. It is rather for us to be here dedicated to the great task remaining before us--that from these honored dead we take increased devotion to that cause for which they gave the last full measure of devotion--that we here highly resolve that these dead shall not have died in vain, that this nation under God shall have a new birth of freedom, and that government of the people, by the people, for the people shall not perish from the earth.']\n"
     ]
    }
   ],
   "source": [
    "joined = [' '.join(dead_men_tell_tales)]\n",
    "\n",
    "print(joined)"
   ]
  },
  {
   "cell_type": "markdown",
   "id": "b03b4700",
   "metadata": {},
   "source": [
    "##### Remove spaces"
   ]
  },
  {
   "cell_type": "code",
   "execution_count": 85,
   "id": "bbec1816",
   "metadata": {},
   "outputs": [
    {
     "name": "stdout",
     "output_type": "stream",
     "text": [
      "Fourscoreandsevenyearsagoourfathersbroughtforthonthiscontinentanewnation,conceivedinlibertyanddedicatedtothepropositionthatallmenarecreatedequal.Nowweareengagedinagreatcivilwar,testingwhetherthatnationoranynationsoconceivedandsodedicatedcanlongendure.Wearemetonagreatbattlefieldofthatwar.Wehavecometodedicateaportionofthatfieldasafinalresting-placeforthosewhoheregavetheirlivesthatthatnationmightlive.Itisaltogetherfittingandproperthatweshoulddothis.Butinalargersense,wecannotdedicate,wecannotconsecrate,wecannothallowthisground.Thebravemen,livinganddeadwhostruggledherehaveconsecrateditfaraboveourpoorpowertoaddordetract.Theworldwilllittlenotenorlongrememberwhatwesayhere,butitcanneverforgetwhattheydidhere.Itisforusthelivingrathertobededicatedheretotheunfinishedworkwhichtheywhofoughtherehavethusfarsonoblyadvanced.Itisratherforustobeherededicatedtothegreattaskremainingbeforeus--thatfromthesehonoreddeadwetakeincreaseddevotiontothatcauseforwhichtheygavethelastfullmeasureofdevotion--thatweherehighlyresolvethatthesedeadshallnothavediedinvain,thatthisnationunderGodshallhaveanewbirthoffreedom,andthatgovernmentofthepeople,bythepeople,forthepeopleshallnotperishfromtheearth.\n"
     ]
    }
   ],
   "source": [
    "nospaces=joined[0].replace(\" \",\"\")\n",
    "print(nospaces)"
   ]
  },
  {
   "cell_type": "markdown",
   "id": "6b5cfe11",
   "metadata": {},
   "source": [
    "##### Occurrence probabilities for letters"
   ]
  },
  {
   "cell_type": "code",
   "execution_count": 86,
   "id": "9663f50a",
   "metadata": {},
   "outputs": [
    {
     "name": "stdout",
     "output_type": "stream",
     "text": [
      "Probability of f : 0.02297872340425532\n",
      "Probability of o : 0.07914893617021276\n",
      "Probability of u : 0.017872340425531916\n",
      "Probability of r : 0.06723404255319149\n",
      "Probability of s : 0.0374468085106383\n",
      "Probability of c : 0.026382978723404255\n",
      "Probability of e : 0.14042553191489363\n",
      "Probability of a : 0.08680851063829788\n",
      "Probability of n : 0.06553191489361702\n",
      "Probability of d : 0.04936170212765958\n",
      "Probability of v : 0.020425531914893616\n",
      "Probability of y : 0.00851063829787234\n",
      "Probability of g : 0.023829787234042554\n",
      "Probability of t : 0.1072340425531915\n",
      "Probability of h : 0.06808510638297872\n",
      "Probability of b : 0.011914893617021277\n",
      "Probability of i : 0.05787234042553192\n",
      "Probability of w : 0.023829787234042554\n",
      "Probability of l : 0.03574468085106383\n",
      "Probability of p : 0.01276595744680851\n",
      "Probability of m : 0.011063829787234043\n",
      "Probability of q : 0.000851063829787234\n",
      "Probability of k : 0.002553191489361702\n"
     ]
    }
   ],
   "source": [
    "letter_count= Counter(nospaces.lower())\n",
    "length = len(nospaces)\n",
    "\n",
    "for x in letter_count:\n",
    "    if x not in [',', '.', '-', '_']:\n",
    "        print(\"Probability of\", x, \":\", letter_count[x]/length)"
   ]
  },
  {
   "cell_type": "markdown",
   "id": "87e00482",
   "metadata": {},
   "source": [
    "##### Tell me transition probabilities for every letter pairs"
   ]
  },
  {
   "cell_type": "code",
   "execution_count": 87,
   "id": "de1e533c",
   "metadata": {},
   "outputs": [
    {
     "name": "stdout",
     "output_type": "stream",
     "text": [
      "dict_items([(('f', 'o'), 10), (('o', 'u'), 7), (('u', 'r'), 5), (('r', 's'), 5), (('s', 'c'), 2), (('c', 'o'), 7), (('o', 'r'), 17), (('r', 'e'), 26), (('e', 'a'), 16), (('a', 'n'), 15), (('n', 'd'), 9), (('d', 's'), 4), (('s', 'e'), 10), (('e', 'v'), 4), (('v', 'e'), 17), (('e', 'n'), 10), (('n', 'y'), 2), (('y', 'e'), 1), (('a', 'r'), 10), (('s', 'a'), 4), (('a', 'g'), 4), (('g', 'o'), 3), (('o', 'o'), 2), (('r', 'f'), 4), (('f', 'a'), 3), (('a', 't'), 36), (('t', 'h'), 47), (('h', 'e'), 32), (('e', 'r'), 22), (('s', 'b'), 2), (('b', 'r'), 2), (('r', 'o'), 6), (('u', 'g'), 3), (('g', 'h'), 4), (('h', 't'), 5), (('t', 'f'), 5), (('r', 't'), 12), (('h', 'o'), 8), (('o', 'n'), 20), (('n', 't'), 8), (('h', 'i'), 7), (('i', 's'), 9), (('t', 'i'), 18), (('i', 'n'), 16), (('n', 'e'), 4), (('t', 'a'), 4), (('e', 'w'), 8), (('w', 'n'), 1), (('n', 'a'), 10), (('i', 'o'), 9), (('n', 'c'), 5), (('c', 'e'), 4), (('e', 'i'), 6), (('i', 'v'), 7), (('e', 'd'), 26), (('d', 'i'), 13), (('n', 'l'), 3), (('l', 'i'), 6), (('i', 'b'), 1), (('b', 'e'), 5), (('t', 'y'), 1), (('y', 'a'), 2), (('d', 'd'), 6), (('d', 'e'), 14), (('i', 'c'), 8), (('c', 'a'), 12), (('t', 'e'), 11), (('d', 't'), 4), (('t', 'o'), 11), (('o', 't'), 13), (('e', 'p'), 4), (('p', 'r'), 2), (('o', 'p'), 5), (('p', 'o'), 4), (('o', 's'), 3), (('s', 'i'), 1), (('i', 't'), 8), (('h', 'a'), 24), (('a', 'l'), 9), (('l', 'l'), 8), (('l', 'm'), 2), (('m', 'e'), 7), (('e', 'c'), 8), (('c', 'r'), 4), (('e', 'q'), 1), (('q', 'u'), 1), (('u', 'a'), 1), (('l', 'n'), 3), (('n', 'o'), 12), (('o', 'w'), 3), (('w', 'w'), 1), (('w', 'e'), 11), (('e', 'e'), 3), (('n', 'g'), 9), (('g', 'a'), 5), (('g', 'e'), 5), (('g', 'r'), 6), (('t', 'c'), 4), (('c', 'i'), 1), (('v', 'i'), 3), (('i', 'l'), 2), (('l', 'w'), 1), (('w', 'a'), 2), (('e', 's'), 9), (('s', 't'), 8), (('g', 'w'), 1), (('w', 'h'), 8), (('e', 't'), 12), (('t', 'n'), 2), (('r', 'a'), 8), (('y', 'n'), 1), (('n', 's'), 4), (('s', 'o'), 4), (('o', 'c'), 1), (('d', 'a'), 2), (('o', 'd'), 3), (('d', 'c'), 1), (('l', 'o'), 3), (('d', 'u'), 1), (('e', 'm'), 5), (('t', 'b'), 1), (('b', 'a'), 1), (('t', 't'), 9), (('t', 'l'), 3), (('l', 'e'), 6), (('e', 'f'), 5), (('f', 'i'), 5), (('i', 'e'), 3), (('e', 'l'), 4), (('l', 'd'), 4), (('d', 'o'), 4), (('o', 'f'), 6), (('f', 't'), 3), (('t', 'w'), 5), (('r', 'w'), 3), (('e', 'h'), 7), (('a', 'v'), 8), (('o', 'm'), 4), (('a', 'p'), 1), (('a', 's'), 5), (('a', 'f'), 1), (('l', 'r'), 1), (('g', 'p'), 1), (('p', 'l'), 4), (('l', 'a'), 3), (('a', 'c'), 2), (('o', 'h'), 1), (('e', 'g'), 2), (('i', 'r'), 2), (('r', 'l'), 3), (('n', 'm'), 2), (('m', 'i'), 1), (('i', 'g'), 2), (('l', 't'), 1), (('o', 'g'), 1), (('d', 'p'), 1), (('p', 'e'), 5), (('s', 'h'), 6), (('u', 'l'), 2), (('b', 'u'), 2), (('u', 't'), 2), (('r', 'g'), 3), (('n', 'n'), 4), (('t', 'd'), 1), (('w', 't'), 1), (('s', 'g'), 1), (('u', 'n'), 3), (('e', 'b'), 3), (('a', 'd'), 5), (('d', 'w'), 4), (('t', 'r'), 2), (('r', 'u'), 3), (('g', 'g'), 1), (('g', 'l'), 1), (('d', 'h'), 3), (('a', 'b'), 1), (('b', 'o'), 1), (('o', 'v'), 2), (('e', 'o'), 5), (('r', 'p'), 2), (('o', 'a'), 1), (('r', 'd'), 1), (('c', 't'), 1), (('w', 'o'), 2), (('w', 'i'), 1), (('m', 'b'), 1), (('a', 'y'), 1), (('y', 'h'), 1), (('e', 'y'), 3), (('y', 'd'), 1), (('i', 'd'), 1), (('s', 'f'), 2), (('u', 's'), 5), (('o', 'b'), 3), (('e', 'u'), 2), (('n', 'f'), 1), (('n', 'i'), 2), (('r', 'k'), 1), (('k', 'w'), 1), (('c', 'h'), 2), (('y', 'w'), 1), (('h', 'u'), 1), (('b', 'l'), 1), (('l', 'y'), 2), (('d', 'v'), 1), (('v', 'a'), 2), (('s', 'r'), 1), (('s', 'k'), 1), (('k', 'r'), 1), (('m', 'a'), 2), (('a', 'i'), 2), (('g', 'b'), 1), (('f', 'r'), 3), (('m', 't'), 2), (('a', 'k'), 1), (('k', 'e'), 1), (('v', 'o'), 2), (('a', 'u'), 1), (('y', 'g'), 1), (('f', 'u'), 1), (('s', 'u'), 1), (('f', 'd'), 1), (('h', 'l'), 1), (('y', 'r'), 1), (('o', 'l'), 1), (('l', 'v'), 1), (('n', 'v'), 1), (('s', 'n'), 1), (('n', 'u'), 1), (('l', 'h'), 1), (('w', 'b'), 1), (('b', 'i'), 1), (('f', 'f'), 1), (('t', 'g'), 1), (('r', 'n'), 1), (('b', 'y'), 1), (('y', 't'), 1), (('t', 'p'), 1), (('r', 'i'), 1), (('h', 'f'), 1)])\n"
     ]
    }
   ],
   "source": [
    "letters = []\n",
    "for x in nospaces.lower():\n",
    "    if x not in [',', '.', '-', '_']:\n",
    "        letters += [x]\n",
    "letterpairs = Counter(zip(letters, letters[1:])).items()\n",
    "print(letterpairs)"
   ]
  },
  {
   "cell_type": "markdown",
   "id": "c1ba40d3",
   "metadata": {},
   "source": [
    "##### Make a 26x26 graph of 4.  in numpy\n"
   ]
  },
  {
   "cell_type": "markdown",
   "id": "f3dbc09b",
   "metadata": {},
   "source": [
    "Not following the question"
   ]
  },
  {
   "cell_type": "markdown",
   "id": "278f87a8",
   "metadata": {},
   "source": [
    "##### plot graph of transition probabilities from letter to letter"
   ]
  },
  {
   "cell_type": "code",
   "execution_count": null,
   "id": "dadf5602",
   "metadata": {},
   "outputs": [],
   "source": []
  },
  {
   "cell_type": "code",
   "execution_count": null,
   "id": "beb767bf",
   "metadata": {},
   "outputs": [],
   "source": []
  },
  {
   "cell_type": "code",
   "execution_count": null,
   "id": "da626857",
   "metadata": {},
   "outputs": [],
   "source": []
  }
 ],
 "metadata": {
  "kernelspec": {
   "display_name": "Python 3 (ipykernel)",
   "language": "python",
   "name": "python3"
  },
  "language_info": {
   "codemirror_mode": {
    "name": "ipython",
    "version": 3
   },
   "file_extension": ".py",
   "mimetype": "text/x-python",
   "name": "python",
   "nbconvert_exporter": "python",
   "pygments_lexer": "ipython3",
   "version": "3.9.6"
  }
 },
 "nbformat": 4,
 "nbformat_minor": 5
}
