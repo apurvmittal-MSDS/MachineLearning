{
 "cells": [
  {
   "cell_type": "markdown",
   "id": "eb8031b7",
   "metadata": {},
   "source": [
    "## Homework - 3\n",
    "#### Submitted by Apurv Mittal"
   ]
  },
  {
   "cell_type": "code",
   "execution_count": 1,
   "id": "3bbb6538",
   "metadata": {},
   "outputs": [],
   "source": [
    "import numpy as np\n",
    "from scipy.stats import rankdata\n",
    "from scipy import stats\n",
    "\n",
    "                            "
   ]
  },
  {
   "cell_type": "markdown",
   "id": "570dc579",
   "metadata": {},
   "source": [
    "### You asked your 10 work friends to answer a survey. They gave you back the following dictionary object.  "
   ]
  },
  {
   "cell_type": "code",
   "execution_count": 2,
   "id": "36e48305",
   "metadata": {},
   "outputs": [],
   "source": [
    "\n",
    "people = {'Jane': {'willingness to travel':1,\n",
    "                  'desire for new experience':5,\n",
    "                  'cost':4,\n",
    "                  'food':2,\n",
    "                  'hipster points':7,\n",
    "                  'vegetarian':8 },\n",
    "          'Liz': {'willingness to travel':8,\n",
    "                  'desire for new experience':4,\n",
    "                  'cost':6,\n",
    "                  'food':5,\n",
    "                  'hipster points':2,\n",
    "                  'vegetarian':6 },\n",
    "          'Mark': {'willingness to travel':4,\n",
    "                  'desire for new experience':6,\n",
    "                  'cost':1,\n",
    "                  'food':3,\n",
    "                  'hipster points':6,\n",
    "                  'vegetarian':7 },\n",
    "          'Sharon':{'willingness to travel':7,\n",
    "                  'desire for new experience':4,\n",
    "                  'cost':1,\n",
    "                  'food':4,\n",
    "                  'hipster points':6,\n",
    "                  'vegetarian':3 },\n",
    "          'Sergio':{'willingness to travel':2,\n",
    "                  'desire for new experience':3,\n",
    "                  'cost':5,\n",
    "                  'food':4,\n",
    "                  'hipster points':6,\n",
    "                  'vegetarian':1 },\n",
    "          'Sarah':{'willingness to travel':9,\n",
    "                  'desire for new experience':8,\n",
    "                  'cost':7,\n",
    "                  'food':6,\n",
    "                  'hipster points':4,\n",
    "                  'vegetarian':3 },\n",
    "          'Ron': {'willingness to travel':7,\n",
    "                  'desire for new experience':4,\n",
    "                  'cost':1,\n",
    "                  'food':5,\n",
    "                  'hipster points':2,\n",
    "                  'vegetarian':9 },\n",
    "          'Apurv': {'willingness to travel':3,\n",
    "                  'desire for new experience':6,\n",
    "                  'cost':9,\n",
    "                  'food':5,\n",
    "                  'hipster points':8,\n",
    "                  'vegetarian':7 },\n",
    "          'Cynthia':{'willingness to travel':1,\n",
    "                  'desire for new experience':4,\n",
    "                  'cost':7,\n",
    "                  'food':5,\n",
    "                  'hipster points':2,\n",
    "                  'vegetarian':9 },\n",
    "          'Camden':{'willingness to travel':3,\n",
    "                  'desire for new experience':2,\n",
    "                  'cost':1,\n",
    "                  'food':4,\n",
    "                  'hipster points':6,\n",
    "                  'vegetarian':9 }\n",
    "                    \n",
    "                }          \n"
   ]
  },
  {
   "cell_type": "markdown",
   "id": "7aeaad97",
   "metadata": {},
   "source": [
    "#### In above dictionary, replaced 'Indian Food' and 'Mexican Food' with just 'Food', since the restaurant data has only 6 features."
   ]
  },
  {
   "cell_type": "code",
   "execution_count": 3,
   "id": "2b3ab9f1",
   "metadata": {},
   "outputs": [
    {
     "data": {
      "text/plain": [
       "{'Jane': {'willingness to travel': 1,\n",
       "  'desire for new experience': 5,\n",
       "  'cost': 4,\n",
       "  'food': 2,\n",
       "  'hipster points': 7,\n",
       "  'vegetarian': 8},\n",
       " 'Liz': {'willingness to travel': 8,\n",
       "  'desire for new experience': 4,\n",
       "  'cost': 6,\n",
       "  'food': 5,\n",
       "  'hipster points': 2,\n",
       "  'vegetarian': 6},\n",
       " 'Mark': {'willingness to travel': 4,\n",
       "  'desire for new experience': 6,\n",
       "  'cost': 1,\n",
       "  'food': 3,\n",
       "  'hipster points': 6,\n",
       "  'vegetarian': 7},\n",
       " 'Sharon': {'willingness to travel': 7,\n",
       "  'desire for new experience': 4,\n",
       "  'cost': 1,\n",
       "  'food': 4,\n",
       "  'hipster points': 6,\n",
       "  'vegetarian': 3},\n",
       " 'Sergio': {'willingness to travel': 2,\n",
       "  'desire for new experience': 3,\n",
       "  'cost': 5,\n",
       "  'food': 4,\n",
       "  'hipster points': 6,\n",
       "  'vegetarian': 1},\n",
       " 'Sarah': {'willingness to travel': 9,\n",
       "  'desire for new experience': 8,\n",
       "  'cost': 7,\n",
       "  'food': 6,\n",
       "  'hipster points': 4,\n",
       "  'vegetarian': 3},\n",
       " 'Ron': {'willingness to travel': 7,\n",
       "  'desire for new experience': 4,\n",
       "  'cost': 1,\n",
       "  'food': 5,\n",
       "  'hipster points': 2,\n",
       "  'vegetarian': 9},\n",
       " 'Apurv': {'willingness to travel': 3,\n",
       "  'desire for new experience': 6,\n",
       "  'cost': 9,\n",
       "  'food': 5,\n",
       "  'hipster points': 8,\n",
       "  'vegetarian': 7},\n",
       " 'Cynthia': {'willingness to travel': 1,\n",
       "  'desire for new experience': 4,\n",
       "  'cost': 7,\n",
       "  'food': 5,\n",
       "  'hipster points': 2,\n",
       "  'vegetarian': 9},\n",
       " 'Camden': {'willingness to travel': 3,\n",
       "  'desire for new experience': 2,\n",
       "  'cost': 1,\n",
       "  'food': 4,\n",
       "  'hipster points': 6,\n",
       "  'vegetarian': 9}}"
      ]
     },
     "execution_count": 3,
     "metadata": {},
     "output_type": "execute_result"
    }
   ],
   "source": [
    "people"
   ]
  },
  {
   "cell_type": "markdown",
   "id": "22853427",
   "metadata": {},
   "source": [
    "### Replace the keys in 'People' dictionary to match Restauant 'Features' \n",
    "\n",
    "'willingness to travel' ='distance',\n",
    "'desire for new experience'='novelty',\n",
    "'cost'='cost',\n",
    "'food'='cuisine',\n",
    "'hipster points'='average rating',\n",
    "'vegetarian'='vegetarians'"
   ]
  },
  {
   "cell_type": "code",
   "execution_count": 4,
   "id": "b09c0398",
   "metadata": {},
   "outputs": [],
   "source": [
    "people_new = {'Jane': {'distance':1,\n",
    "                  'novelty':5,\n",
    "                  'cost':4,\n",
    "                  'cuisine':2,\n",
    "                  'average rating':7,\n",
    "                  'vegetarians':8 },\n",
    "          'Liz': {'distance':8,\n",
    "                  'novelty':4,\n",
    "                  'cost':6,\n",
    "                  'cuisine':5,\n",
    "                  'average rating':2,\n",
    "                  'vegetarians':6 },\n",
    "          'Mark': {'distance':4,\n",
    "                  'novelty':6,\n",
    "                  'cost':1,\n",
    "                  'cuisine':3,\n",
    "                  'average rating':6,\n",
    "                  'vegetarians':7 },\n",
    "          'Sharon':{'distance':7,\n",
    "                  'novelty':4,\n",
    "                  'cost':1,\n",
    "                  'cuisine':4,\n",
    "                  'average rating':6,\n",
    "                  'vegetarians':3 },\n",
    "          'Sergio':{'distance':2,\n",
    "                  'novelty':3,\n",
    "                  'cost':5,\n",
    "                  'cuisine':4,\n",
    "                  'average rating':6,\n",
    "                  'vegetarians':1 },\n",
    "          'Sarah':{'distance':9,\n",
    "                  'novelty':8,\n",
    "                  'cost':7,\n",
    "                  'cuisine':6,\n",
    "                  'average rating':4,\n",
    "                  'vegetarians':3 },\n",
    "          'Ron': {'distance':7,\n",
    "                  'novelty':4,\n",
    "                  'cost':1,\n",
    "                  'cuisine':5,\n",
    "                  'average rating':2,\n",
    "                  'vegetarians':9 },\n",
    "          'Apurv': {'distance':3,\n",
    "                  'novelty':6,\n",
    "                  'cost':9,\n",
    "                  'cuisine':5,\n",
    "                  'average rating':8,\n",
    "                  'vegetarians':7 },\n",
    "          'Cynthia':{'distance':1,\n",
    "                  'novelty':4,\n",
    "                  'cost':7,\n",
    "                  'cuisine':5,\n",
    "                  'average rating':2,\n",
    "                  'vegetarians':9 },\n",
    "          'Camden':{'distance':3,\n",
    "                  'novelty':2,\n",
    "                  'cost':1,\n",
    "                  'cuisine':4,\n",
    "                  'average rating':6,\n",
    "                  'vegetarians':9 }\n",
    "                    \n",
    "                }          \n"
   ]
  },
  {
   "cell_type": "code",
   "execution_count": 5,
   "id": "2d5706bf",
   "metadata": {},
   "outputs": [],
   "source": [
    "restaurants  = {'Flacos':{'distance':9,\n",
    "                        'novelty':8,\n",
    "                        'cost':7,\n",
    "                        'cuisine':5,\n",
    "                        'average rating':6, \n",
    "                        'vegetarians':4},\n",
    "                'Windmills':{'distance':9,\n",
    "                        'novelty':6,\n",
    "                        'cost':5,\n",
    "                        'average rating':9, \n",
    "                        'cuisine':8,\n",
    "                        'vegetarians':5},\n",
    "                'Abuelos':{'distance':7,\n",
    "                        'novelty':1,\n",
    "                        'cost':9, \n",
    "                        'cuisine':4,\n",
    "                        'average rating':8,\n",
    "                        'vegetarians':2},\n",
    "                'BestThai':{'distance':9,\n",
    "                        'novelty':7,\n",
    "                        'cost':9,\n",
    "                         \n",
    "                        'cuisine':7,\n",
    "                        'average rating':8,\n",
    "                        'vegetarians':5},\n",
    "                'SpiceRack':{'distance':9,\n",
    "                        'novelty':1,\n",
    "                        'cost':9,\n",
    "                         \n",
    "                        'cuisine':1,\n",
    "                        'average rating':2,\n",
    "                        'vegetarians':3},\n",
    "                'PFChang':{'distance':1,\n",
    "                        'novelty':7,\n",
    "                        'cost':5,\n",
    "                        \n",
    "                        'cuisine':7,\n",
    "                        'average rating':2, \n",
    "                        'vegetarians':3},\n",
    "                'Hard8':{'distance':4,\n",
    "                        'novelty':6,\n",
    "                        'cost':4,\n",
    "                        \n",
    "                        'cuisine':1,\n",
    "                        'average rating':8, \n",
    "                        'vegetarians':1},\n",
    "                'Chilis':{'distance':2,\n",
    "                        'novelty':5,\n",
    "                        'cost':6,\n",
    "                        \n",
    "                        'cuisine':1,\n",
    "                        'average rating':5, \n",
    "                        'vegetarians':3},\n",
    "                'NorthItalia':{'distance':2,\n",
    "                        'novelty':8,\n",
    "                        'cost':3,\n",
    "                         \n",
    "                        'cuisine':1,\n",
    "                        'average rating':4,\n",
    "                        'vegetarians':2},\n",
    "                'Kai':{'distance':6,\n",
    "                        'novelty':9,\n",
    "                        'cost':2,\n",
    "                        \n",
    "                        'cuisine':7,\n",
    "                        'average rating':9, \n",
    "                        'vegetarians':1},\n",
    "               }\n"
   ]
  },
  {
   "cell_type": "code",
   "execution_count": 6,
   "id": "abffd122",
   "metadata": {},
   "outputs": [
    {
     "data": {
      "text/plain": [
       "['Jane',\n",
       " 'Liz',\n",
       " 'Mark',\n",
       " 'Sharon',\n",
       " 'Sergio',\n",
       " 'Sarah',\n",
       " 'Ron',\n",
       " 'Apurv',\n",
       " 'Cynthia',\n",
       " 'Camden']"
      ]
     },
     "execution_count": 6,
     "metadata": {},
     "output_type": "execute_result"
    }
   ],
   "source": [
    "people_names = list(people_new.keys())\n",
    "people_names"
   ]
  },
  {
   "cell_type": "code",
   "execution_count": 7,
   "id": "0a3ac351",
   "metadata": {},
   "outputs": [
    {
     "data": {
      "text/plain": [
       "['Flacos',\n",
       " 'Windmills',\n",
       " 'Abuelos',\n",
       " 'BestThai',\n",
       " 'SpiceRack',\n",
       " 'PFChang',\n",
       " 'Hard8',\n",
       " 'Chilis',\n",
       " 'NorthItalia',\n",
       " 'Kai']"
      ]
     },
     "execution_count": 7,
     "metadata": {},
     "output_type": "execute_result"
    }
   ],
   "source": [
    "rests_names = list(restaurants.keys())\n",
    "rests_names"
   ]
  },
  {
   "cell_type": "code",
   "execution_count": 8,
   "id": "9c41cc94",
   "metadata": {},
   "outputs": [
    {
     "data": {
      "text/plain": [
       "['cost', 'cuisine', 'novelty', 'average rating', 'distance', 'vegetarians']"
      ]
     },
     "execution_count": 8,
     "metadata": {},
     "output_type": "execute_result"
    }
   ],
   "source": [
    "features_names = list(set([y for x in restaurants.keys() for y in restaurants[x].keys()]))\n",
    "features_names"
   ]
  },
  {
   "cell_type": "code",
   "execution_count": 9,
   "id": "85958261",
   "metadata": {},
   "outputs": [],
   "source": [
    "X = np.zeros((len(features_names),len(people_names)))\n",
    "\n"
   ]
  },
  {
   "cell_type": "code",
   "execution_count": 10,
   "id": "aa341bd2",
   "metadata": {},
   "outputs": [],
   "source": [
    "# Reference: Code shared in the live session by prof. Nedelina Teneva\n",
    "\n",
    "# Transform the user data into a matrix(M_people). Keep track of column and row ids.\n",
    "for x in people_names:\n",
    "  for f in features_names:\n",
    "    if f in people_new[x]:\n",
    "      X[features_names.index(f),people_names.index(x)] = people_new[x][f] "
   ]
  },
  {
   "cell_type": "code",
   "execution_count": 11,
   "id": "7afcffaa",
   "metadata": {},
   "outputs": [
    {
     "name": "stdout",
     "output_type": "stream",
     "text": [
      "[[4. 6. 1. 1. 5. 7. 1. 9. 7. 1.]\n",
      " [2. 5. 3. 4. 4. 6. 5. 5. 5. 4.]\n",
      " [5. 4. 6. 4. 3. 8. 4. 6. 4. 2.]\n",
      " [7. 2. 6. 6. 6. 4. 2. 8. 2. 6.]\n",
      " [1. 8. 4. 7. 2. 9. 7. 3. 1. 3.]\n",
      " [8. 6. 7. 3. 1. 3. 9. 7. 9. 9.]]\n"
     ]
    }
   ],
   "source": [
    "print(X)"
   ]
  },
  {
   "cell_type": "code",
   "execution_count": 12,
   "id": "eaec24e2",
   "metadata": {},
   "outputs": [],
   "source": [
    "# Transform the restaurant data into a matrix(M_resturants) use the same column index.\n",
    "A = np.zeros((len(rests_names), len(features_names)))\n",
    "for x in rests_names:\n",
    "  for f in features_names:\n",
    "    if f in restaurants[x]:\n",
    "      A[rests_names.index(x),features_names.index(f)] = restaurants[x][f]"
   ]
  },
  {
   "cell_type": "code",
   "execution_count": 13,
   "id": "bc0486a3",
   "metadata": {},
   "outputs": [
    {
     "name": "stdout",
     "output_type": "stream",
     "text": [
      "[[7. 5. 8. 6. 9. 4.]\n",
      " [5. 8. 6. 9. 9. 5.]\n",
      " [9. 4. 1. 8. 7. 2.]\n",
      " [9. 7. 7. 8. 9. 5.]\n",
      " [9. 1. 1. 2. 9. 3.]\n",
      " [5. 7. 7. 2. 1. 3.]\n",
      " [4. 1. 6. 8. 4. 1.]\n",
      " [6. 1. 5. 5. 2. 3.]\n",
      " [3. 1. 8. 4. 2. 2.]\n",
      " [2. 7. 9. 9. 6. 1.]]\n"
     ]
    }
   ],
   "source": [
    "print(A)"
   ]
  },
  {
   "cell_type": "markdown",
   "id": "4528bbb6",
   "metadata": {},
   "source": [
    "#### Informally describe what a linear combination is  and how it will relate to our restaurant matrix."
   ]
  },
  {
   "cell_type": "markdown",
   "id": "30a6891c",
   "metadata": {},
   "source": [
    "Linear Combination is an expression in which each term (from a set of terms)is multiplyed by a constant and then all the values are adding to get a final value. It can be represented as `AX=B` where X is a matrix, A is a set of contants when multiplyed and added we get `B`. \n",
    "\n",
    "In restaurant matrix, we are multiplying the restaurant scores for set of features to that of the people matrix with score for each feature. The total score `B` is obtained for each individual. \n",
    "                  \n",
    "                  \n",
    "Reference: https://en.wikipedia.org/wiki/Linear_combination"
   ]
  },
  {
   "cell_type": "code",
   "execution_count": 14,
   "id": "49469fcd",
   "metadata": {},
   "outputs": [],
   "source": [
    "# Calculate B by taking a dot product of Restaurants (A) and People (X)\n",
    "B = np.dot(A,X)"
   ]
  },
  {
   "cell_type": "markdown",
   "id": "dce5137f",
   "metadata": {},
   "source": [
    "#### Choose a person and compute(using a linear combination) the top restaurant for them.  What does each entry in the resulting vector represent? "
   ]
  },
  {
   "cell_type": "markdown",
   "id": "d5ac9ec0",
   "metadata": {},
   "source": [
    "Selecting the user name as `Camden`"
   ]
  },
  {
   "cell_type": "markdown",
   "id": "0f90122d",
   "metadata": {},
   "source": [
    "Score for each restaurant"
   ]
  },
  {
   "cell_type": "code",
   "execution_count": 15,
   "id": "8a19bd62",
   "metadata": {},
   "outputs": [
    {
     "name": "stdout",
     "output_type": "stream",
     "text": [
      "[144. 155. 162. 165. 132. 221. 142. 204. 118. 129.]\n"
     ]
    }
   ],
   "source": [
    "# Selecting user named 'Camden'\n",
    "\n",
    "for i in people_names:\n",
    "    if i == 'Camden':\n",
    "        v=B[people_names.index('Camden')]\n",
    "        print (v)"
   ]
  },
  {
   "cell_type": "markdown",
   "id": "94f223b3",
   "metadata": {},
   "source": [
    "The above matrix is the total score for `Camden` for each of the restaurants"
   ]
  },
  {
   "cell_type": "code",
   "execution_count": 16,
   "id": "507389c6",
   "metadata": {},
   "outputs": [
    {
     "data": {
      "text/plain": [
       "221.0"
      ]
     },
     "execution_count": 16,
     "metadata": {},
     "output_type": "execute_result"
    }
   ],
   "source": [
    "# Maximum score\n",
    "np.max(v)"
   ]
  },
  {
   "cell_type": "markdown",
   "id": "f73c077c",
   "metadata": {},
   "source": [
    "Index of the restaurant for which `Camden` has highest score"
   ]
  },
  {
   "cell_type": "code",
   "execution_count": 17,
   "id": "eb42e2c5",
   "metadata": {},
   "outputs": [],
   "source": [
    "idx= np.where(v == v.max())"
   ]
  },
  {
   "cell_type": "code",
   "execution_count": 18,
   "id": "e62f180c",
   "metadata": {},
   "outputs": [
    {
     "data": {
      "text/plain": [
       "(array([5]),)"
      ]
     },
     "execution_count": 18,
     "metadata": {},
     "output_type": "execute_result"
    }
   ],
   "source": [
    "idx"
   ]
  },
  {
   "cell_type": "markdown",
   "id": "2c7ee532",
   "metadata": {},
   "source": [
    "##### Name of the restaurant for which Camden has highest score"
   ]
  },
  {
   "cell_type": "code",
   "execution_count": 19,
   "id": "d44f0f55",
   "metadata": {},
   "outputs": [
    {
     "data": {
      "text/plain": [
       "'PFChang'"
      ]
     },
     "execution_count": 19,
     "metadata": {},
     "output_type": "execute_result"
    }
   ],
   "source": [
    "rests_names[5]"
   ]
  },
  {
   "cell_type": "markdown",
   "id": "510ceb46",
   "metadata": {},
   "source": [
    "\n",
    "### Next, compute a new matrix (M_usr_x_rest  i.e. an user by restaurant) from all people.  What does the a_ij matrix represent? \n"
   ]
  },
  {
   "cell_type": "code",
   "execution_count": 20,
   "id": "b80e94a2",
   "metadata": {},
   "outputs": [
    {
     "data": {
      "text/plain": [
       "array([[161., 207., 170., 170., 137., 260., 175., 239., 163., 142.],\n",
       "       [178., 214., 190., 193., 152., 263., 195., 255., 171., 175.],\n",
       "       [128., 162., 117., 132., 128., 196., 116., 206., 128., 114.],\n",
       "       [190., 235., 191., 191., 165., 289., 196., 284., 196., 171.],\n",
       "       [ 90., 157.,  87., 101.,  85., 175., 112., 156., 112.,  81.],\n",
       "       [108., 123., 105.,  89.,  91., 159., 106., 162., 130.,  89.],\n",
       "       [116., 107., 114., 111.,  99., 153.,  86., 160.,  86.,  89.],\n",
       "       [112., 105.,  98.,  83.,  86., 135.,  82., 156., 106.,  83.],\n",
       "       [100.,  91., 100.,  83.,  73., 131.,  80., 132.,  86.,  71.],\n",
       "       [144., 155., 162., 165., 132., 221., 142., 204., 118., 129.]])"
      ]
     },
     "execution_count": 20,
     "metadata": {},
     "output_type": "execute_result"
    }
   ],
   "source": [
    "# Calculate B by taking a dot product of Restaurants (A) and People (X)\n",
    "B = np.dot(A,X)\n",
    "B"
   ]
  },
  {
   "cell_type": "markdown",
   "id": "92b426ff",
   "metadata": {},
   "source": [
    "The above matrix represents the total score of each user against each restaurant based on the various features."
   ]
  },
  {
   "cell_type": "markdown",
   "id": "705f6df2",
   "metadata": {},
   "source": [
    "### Sum all columns in M_usr_x_rest to get the optimal restaurant for all users.  What do the entries represent?"
   ]
  },
  {
   "cell_type": "markdown",
   "id": "6a8a150d",
   "metadata": {},
   "source": [
    "Get the sum of each column (representing restaurants) to find the restaurants with highest score."
   ]
  },
  {
   "cell_type": "code",
   "execution_count": 21,
   "id": "29c6eebf",
   "metadata": {},
   "outputs": [
    {
     "data": {
      "text/plain": [
       "array([1327., 1556., 1334., 1318., 1148., 1982., 1290., 1954., 1296.,\n",
       "       1144.])"
      ]
     },
     "execution_count": 21,
     "metadata": {},
     "output_type": "execute_result"
    }
   ],
   "source": [
    "rest_score = np.sum(B, axis=0)\n",
    "rest_score"
   ]
  },
  {
   "cell_type": "code",
   "execution_count": 22,
   "id": "0378c59f",
   "metadata": {},
   "outputs": [
    {
     "data": {
      "text/plain": [
       "1982.0"
      ]
     },
     "execution_count": 22,
     "metadata": {},
     "output_type": "execute_result"
    }
   ],
   "source": [
    "# Maximum score\n",
    "np.max(rest_score)"
   ]
  },
  {
   "cell_type": "markdown",
   "id": "ccaa1895",
   "metadata": {},
   "source": [
    "The maximum score of a restaurant is `1982`. This restaurant appears to be most preferred by everyone when considering all the features."
   ]
  },
  {
   "cell_type": "code",
   "execution_count": 23,
   "id": "13b99ed0",
   "metadata": {},
   "outputs": [
    {
     "data": {
      "text/plain": [
       "(array([5]),)"
      ]
     },
     "execution_count": 23,
     "metadata": {},
     "output_type": "execute_result"
    }
   ],
   "source": [
    "# Index of the restaurant\n",
    "idx= np.where(rest_score == rest_score.max())\n",
    "idx"
   ]
  },
  {
   "cell_type": "code",
   "execution_count": 24,
   "id": "eaac1cb0",
   "metadata": {},
   "outputs": [
    {
     "data": {
      "text/plain": [
       "(array([5]),)"
      ]
     },
     "execution_count": 24,
     "metadata": {},
     "output_type": "execute_result"
    }
   ],
   "source": [
    "idx"
   ]
  },
  {
   "cell_type": "markdown",
   "id": "a7d60941",
   "metadata": {},
   "source": [
    "##### Name of the restaurant for which has highest overall score"
   ]
  },
  {
   "cell_type": "code",
   "execution_count": 25,
   "id": "499cd534",
   "metadata": {},
   "outputs": [
    {
     "data": {
      "text/plain": [
       "'PFChang'"
      ]
     },
     "execution_count": 25,
     "metadata": {},
     "output_type": "execute_result"
    }
   ],
   "source": [
    "rests_names[5]"
   ]
  },
  {
   "cell_type": "code",
   "execution_count": 26,
   "id": "bc9574dc",
   "metadata": {},
   "outputs": [],
   "source": [
    "top_rest_loc = np.where(np.max(B.T)==B.T)[0][0]"
   ]
  },
  {
   "cell_type": "code",
   "execution_count": 27,
   "id": "9d824188",
   "metadata": {},
   "outputs": [
    {
     "data": {
      "text/plain": [
       "'PFChang'"
      ]
     },
     "execution_count": 27,
     "metadata": {},
     "output_type": "execute_result"
    }
   ],
   "source": [
    "rests_names[top_rest_loc]"
   ]
  },
  {
   "cell_type": "markdown",
   "id": "60c71a14",
   "metadata": {},
   "source": [
    "### Now convert each row in the M_usr_x_rest into a ranking for each user and call it M_usr_x_rest_rank.   Do the same as above to generate the optimal restaurant choice.  "
   ]
  },
  {
   "cell_type": "code",
   "execution_count": 28,
   "id": "5d743c4f",
   "metadata": {},
   "outputs": [],
   "source": [
    "def get_real_rank(data):\n",
    "    return rankdata(len(data) - rankdata(data))"
   ]
  },
  {
   "cell_type": "code",
   "execution_count": 29,
   "id": "489b0d06",
   "metadata": {},
   "outputs": [
    {
     "data": {
      "text/plain": [
       "array([ 65. ,  79. ,  44. ,  80.5,  18. ,  31. ,  38.5,  34. ,  23.5,\n",
       "        56. ,  91. ,  92. ,  67. ,  94. ,  62. ,  42. ,  30. ,  26.5,\n",
       "        19.5,  59. ,  72.5,  80.5,  40. ,  82.5,  14. ,  26.5,  36.5,\n",
       "        21. ,  23.5,  67. ,  72.5,  84. ,  50. ,  82.5,  25. ,  16. ,\n",
       "        32. ,   7. ,   7. ,  70.5,  53. ,  57. ,  44. ,  70.5,   9. ,\n",
       "        19.5,  22. ,  11.5,   2. ,  50. ,  97. ,  98. ,  87. , 100. ,\n",
       "        77. ,  63. ,  58. ,  52. ,  48. ,  93. ,  77. ,  85. ,  38.5,\n",
       "        87. ,  34. ,  28.5,  11.5,   5. ,   3. ,  54.5,  95. ,  96. ,\n",
       "        90. ,  99. ,  60.5,  67. ,  64. ,  60.5,  50. ,  89. ,  69. ,\n",
       "        74.5,  44. ,  87. ,  34. ,  47. ,  11.5,  28.5,  11.5,  41. ,\n",
       "        54.5,  77. ,  36.5,  74.5,   4. ,  16. ,  16. ,   7. ,   1. ,\n",
       "        46. ])"
      ]
     },
     "execution_count": 29,
     "metadata": {},
     "output_type": "execute_result"
    }
   ],
   "source": [
    "M_usr_x_rest_rank = rankdata((B.T))\n",
    "M_usr_x_rest_rank"
   ]
  },
  {
   "cell_type": "markdown",
   "id": "478407f0",
   "metadata": {},
   "source": [
    "### Why is there a difference between the two?  What problem arrives?  What does it represent in the real world?"
   ]
  },
  {
   "cell_type": "markdown",
   "id": "258b7a3e",
   "metadata": {},
   "source": [
    "In terms of rank the lowest number is better but for the rest of the data, higher number is considered better."
   ]
  },
  {
   "cell_type": "markdown",
   "id": "270fa541",
   "metadata": {},
   "source": [
    "Some users may skew the results based on their score for particular feature."
   ]
  },
  {
   "cell_type": "markdown",
   "id": "e3d61516",
   "metadata": {},
   "source": [
    "### Find  user profiles that are problematic, explain why?"
   ]
  },
  {
   "cell_type": "code",
   "execution_count": 30,
   "id": "9bc92996",
   "metadata": {},
   "outputs": [
    {
     "name": "stdout",
     "output_type": "stream",
     "text": [
      "Sum:\n",
      " [1824. 1986. 1427. 2108. 1156. 1162. 1121. 1046.  947. 1572.]\n"
     ]
    }
   ],
   "source": [
    "print(\"Sum:\\n\",np.sum(B, axis=1))"
   ]
  },
  {
   "cell_type": "markdown",
   "id": "819d8eec",
   "metadata": {},
   "source": [
    "Some users have much higher total scores for the restaurants for example user at Index `0` has total of `1824` while user at `8` has only `947`. This may skew the results of ranking based on the preferences of a particular user."
   ]
  },
  {
   "cell_type": "markdown",
   "id": "e6359e3d",
   "metadata": {},
   "source": [
    "### How should you preprocess your data to remove this problem. "
   ]
  },
  {
   "cell_type": "markdown",
   "id": "f44037e9",
   "metadata": {},
   "source": [
    "We can normalize the data by dividing the each score by the sum of all the scores of each user."
   ]
  },
  {
   "cell_type": "code",
   "execution_count": 31,
   "id": "7ab564e9",
   "metadata": {},
   "outputs": [],
   "source": [
    "row_sums = B.sum(axis=1)\n",
    "normalized_B= B / row_sums[:, np.newaxis]\n",
    "#reference: https://stackoverflow.com/questions/8904694/how-to-normalize-a-2-dimensional-numpy-array-in-python-less-verbose"
   ]
  },
  {
   "cell_type": "code",
   "execution_count": 32,
   "id": "0faccc85",
   "metadata": {},
   "outputs": [
    {
     "data": {
      "text/plain": [
       "array([[0.08826754, 0.11348684, 0.09320175, 0.09320175, 0.07510965,\n",
       "        0.14254386, 0.09594298, 0.1310307 , 0.08936404, 0.07785088],\n",
       "       [0.08962739, 0.10775428, 0.09566969, 0.09718026, 0.07653575,\n",
       "        0.13242699, 0.09818731, 0.12839879, 0.08610272, 0.08811682],\n",
       "       [0.08969867, 0.11352488, 0.08199019, 0.09250175, 0.08969867,\n",
       "        0.13735109, 0.08128942, 0.14435879, 0.08969867, 0.07988788],\n",
       "       [0.09013283, 0.11148008, 0.09060721, 0.09060721, 0.07827324,\n",
       "        0.13709677, 0.09297913, 0.13472486, 0.09297913, 0.08111954],\n",
       "       [0.07785467, 0.13581315, 0.07525952, 0.08737024, 0.07352941,\n",
       "        0.15138408, 0.09688581, 0.1349481 , 0.09688581, 0.0700692 ],\n",
       "       [0.0929432 , 0.10585198, 0.09036145, 0.07659208, 0.07831325,\n",
       "        0.13683305, 0.09122203, 0.1394148 , 0.11187608, 0.07659208],\n",
       "       [0.10347904, 0.09545049, 0.10169492, 0.09901873, 0.08831401,\n",
       "        0.13648528, 0.07671722, 0.14272971, 0.07671722, 0.0793934 ],\n",
       "       [0.10707457, 0.10038241, 0.09369025, 0.0793499 , 0.08221797,\n",
       "        0.1290631 , 0.07839388, 0.14913958, 0.10133843, 0.0793499 ],\n",
       "       [0.10559662, 0.09609293, 0.10559662, 0.0876452 , 0.07708553,\n",
       "        0.13833157, 0.0844773 , 0.13938754, 0.09081309, 0.0749736 ],\n",
       "       [0.09160305, 0.09860051, 0.10305344, 0.10496183, 0.08396947,\n",
       "        0.14058524, 0.09033079, 0.12977099, 0.07506361, 0.08206107]])"
      ]
     },
     "execution_count": 32,
     "metadata": {},
     "output_type": "execute_result"
    }
   ],
   "source": [
    "normalized_B"
   ]
  },
  {
   "cell_type": "markdown",
   "id": "9e6004e3",
   "metadata": {},
   "source": [
    "### Think of two metrics to compute the disatistifaction with the group.  "
   ]
  },
  {
   "cell_type": "markdown",
   "id": "5ee8673c",
   "metadata": {},
   "source": [
    "\n",
    "\n",
    "`1` Find the top most ranked feature by the user and compare the score of that against that of the restaurant. If its positive then user is satisfied but if its in negative which means the user gave it higher weight but the restaurant score was lower then that can be used as the dissatisfaction score.\n",
    "\n",
    "`2` Calculate the restaurant average score and subtract the each users restaurant score. The difference between these values could be considered a “dissatisfaction score” if the value is positive (average restaurant score is higher than the users score) for each person."
   ]
  },
  {
   "cell_type": "markdown",
   "id": "621a1e60",
   "metadata": {},
   "source": [
    "### Should you split in two groups today? "
   ]
  },
  {
   "cell_type": "markdown",
   "id": "ae9226b0",
   "metadata": {},
   "source": [
    "We can split the group into two, however once we normalize the data that is not required."
   ]
  },
  {
   "cell_type": "markdown",
   "id": "9ba2449b",
   "metadata": {},
   "source": [
    "If we have to split then we can take a threshold of the total score of a user like all users under 1300 total score in once group and rest in another."
   ]
  },
  {
   "cell_type": "markdown",
   "id": "cc0ded6b",
   "metadata": {},
   "source": [
    "### Ok. Now you just found out the boss is paying for the meal. How should you adjust? Now what is the best restaurant?"
   ]
  },
  {
   "cell_type": "markdown",
   "id": "9eb6c1c9",
   "metadata": {},
   "source": [
    "If boss is paying that means the cost criteria for all users should be minimal to `0`"
   ]
  },
  {
   "cell_type": "code",
   "execution_count": 33,
   "id": "f94ad96d",
   "metadata": {},
   "outputs": [],
   "source": [
    "people_cost0 = {'Jane': {'distance':1,\n",
    "                  'novelty':5,\n",
    "                  'cost':0,\n",
    "                  'cuisine':2,\n",
    "                  'average rating':7,\n",
    "                  'vegetarians':8 },\n",
    "          'Liz': {'distance':8,\n",
    "                  'novelty':4,\n",
    "                  'cost':0,\n",
    "                  'cuisine':5,\n",
    "                  'average rating':2,\n",
    "                  'vegetarians':6 },\n",
    "          'Mark': {'distance':4,\n",
    "                  'novelty':6,\n",
    "                  'cost':0,\n",
    "                  'cuisine':3,\n",
    "                  'average rating':6,\n",
    "                  'vegetarians':7 },\n",
    "          'Sharon':{'distance':7,\n",
    "                  'novelty':4,\n",
    "                  'cost':0,\n",
    "                  'cuisine':4,\n",
    "                  'average rating':6,\n",
    "                  'vegetarians':3 },\n",
    "          'Sergio':{'distance':2,\n",
    "                  'novelty':3,\n",
    "                  'cost':0,\n",
    "                  'cuisine':4,\n",
    "                  'average rating':6,\n",
    "                  'vegetarians':1 },\n",
    "          'Sarah':{'distance':9,\n",
    "                  'novelty':8,\n",
    "                  'cost':0,\n",
    "                  'cuisine':6,\n",
    "                  'average rating':4,\n",
    "                  'vegetarians':3 },\n",
    "          'Ron': {'distance':7,\n",
    "                  'novelty':4,\n",
    "                  'cost':0,\n",
    "                  'cuisine':5,\n",
    "                  'average rating':2,\n",
    "                  'vegetarians':9 },\n",
    "          'Apurv': {'distance':3,\n",
    "                  'novelty':6,\n",
    "                  'cost':0,\n",
    "                  'cuisine':5,\n",
    "                  'average rating':8,\n",
    "                  'vegetarians':7 },\n",
    "          'Cynthia':{'distance':1,\n",
    "                  'novelty':4,\n",
    "                  'cost':0,\n",
    "                  'cuisine':5,\n",
    "                  'average rating':2,\n",
    "                  'vegetarians':9 },\n",
    "          'Camden':{'distance':3,\n",
    "                  'novelty':2,\n",
    "                  'cost':0,\n",
    "                  'cuisine':4,\n",
    "                  'average rating':6,\n",
    "                  'vegetarians':9 }\n",
    "                    \n",
    "                }    "
   ]
  },
  {
   "cell_type": "code",
   "execution_count": 34,
   "id": "082ba366",
   "metadata": {},
   "outputs": [],
   "source": [
    "# Reference: Code shared in the live session by prof. Nedelina Teneva\n",
    "\n",
    "X_new = np.zeros((len(features_names),len(people_names)))\n",
    "\n",
    "# Transform the new user data into a matrix with cost as 0.\n",
    "for x in people_names:\n",
    "  for f in features_names:\n",
    "    if f in people_cost0[x]:\n",
    "      X_new[features_names.index(f),people_names.index(x)] = people_cost0[x][f] "
   ]
  },
  {
   "cell_type": "code",
   "execution_count": 35,
   "id": "7d9c89a7",
   "metadata": {},
   "outputs": [
    {
     "data": {
      "text/plain": [
       "array([[0., 0., 0., 0., 0., 0., 0., 0., 0., 0.],\n",
       "       [2., 5., 3., 4., 4., 6., 5., 5., 5., 4.],\n",
       "       [5., 4., 6., 4., 3., 8., 4., 6., 4., 2.],\n",
       "       [7., 2., 6., 6., 6., 4., 2., 8., 2., 6.],\n",
       "       [1., 8., 4., 7., 2., 9., 7., 3., 1., 3.],\n",
       "       [8., 6., 7., 3., 1., 3., 9., 7., 9., 9.]])"
      ]
     },
     "execution_count": 35,
     "metadata": {},
     "output_type": "execute_result"
    }
   ],
   "source": [
    "X_new"
   ]
  },
  {
   "cell_type": "code",
   "execution_count": 36,
   "id": "98aeba94",
   "metadata": {},
   "outputs": [],
   "source": [
    "# Calculate B_new by taking a dot product of Restaurants (A) and People (X_new)\n",
    "B_new = np.dot(A,X_new)"
   ]
  },
  {
   "cell_type": "code",
   "execution_count": 37,
   "id": "71271fc1",
   "metadata": {},
   "outputs": [],
   "source": [
    "top_rest_loc_new = np.where(np.max(B_new)==B_new)[0][0]"
   ]
  },
  {
   "cell_type": "code",
   "execution_count": 38,
   "id": "5f2b45ca",
   "metadata": {},
   "outputs": [
    {
     "data": {
      "text/plain": [
       "'Windmills'"
      ]
     },
     "execution_count": 38,
     "metadata": {},
     "output_type": "execute_result"
    }
   ],
   "source": [
    "rests_names[top_rest_loc_new]"
   ]
  },
  {
   "cell_type": "markdown",
   "id": "492f80c3",
   "metadata": {},
   "source": [
    "Top restaurant name is Windmills after the cost factor is reduced."
   ]
  },
  {
   "cell_type": "markdown",
   "id": "9044476d",
   "metadata": {},
   "source": [
    "### Tomorrow you visit another team. You have the same restaurants and they told you their optimal ordering for restaurants.  Can you find their weight matrix? "
   ]
  },
  {
   "cell_type": "markdown",
   "id": "fff0e541",
   "metadata": {},
   "source": [
    "By taking a dot product of restaurant matrix with ordering matrix transposed we can find the weight matrix."
   ]
  },
  {
   "cell_type": "code",
   "execution_count": null,
   "id": "2d302fb8",
   "metadata": {},
   "outputs": [],
   "source": []
  }
 ],
 "metadata": {
  "kernelspec": {
   "display_name": "Python 3 (ipykernel)",
   "language": "python",
   "name": "python3"
  },
  "language_info": {
   "codemirror_mode": {
    "name": "ipython",
    "version": 3
   },
   "file_extension": ".py",
   "mimetype": "text/x-python",
   "name": "python",
   "nbconvert_exporter": "python",
   "pygments_lexer": "ipython3",
   "version": "3.9.6"
  }
 },
 "nbformat": 4,
 "nbformat_minor": 5
}
